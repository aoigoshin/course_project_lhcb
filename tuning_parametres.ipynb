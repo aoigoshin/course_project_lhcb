{
 "cells": [
  {
   "cell_type": "code",
   "execution_count": 2,
   "metadata": {
    "collapsed": false
   },
   "outputs": [],
   "source": [
    "from matplotlib import pyplot as plt\n",
    "%matplotlib inline\n",
    "\n",
    "import numpy\n",
    "import pandas\n",
    "import pandas as pd\n",
    "import numpy as np\n",
    "from sklearn.tree import DecisionTreeClassifier\n",
    "from sklearn.ensemble import BaggingClassifier, RandomForestClassifier, GradientBoostingClassifier\n",
    "from sklearn.cross_validation import cross_val_score\n",
    "from sklearn.model_selection import train_test_split, GroupShuffleSplit\n",
    "from sklearn.metrics import accuracy_score, roc_auc_score, roc_curve, auc\n",
    "from sklearn.linear_model import LogisticRegression, RidgeClassifier, Ridge\n",
    "from sklearn.ensemble import AdaBoostClassifier\n",
    "from sklearn.grid_search import GridSearchCV"
   ]
  },
  {
   "cell_type": "code",
   "execution_count": 3,
   "metadata": {
    "collapsed": true
   },
   "outputs": [],
   "source": [
    "def train_test_split_group(group_column, *arrays, **kw_args):\n",
    "   \n",
    "    from sklearn import cross_validation\n",
    "    allow_none = kw_args.pop('allow_none', None)\n",
    "\n",
    "    assert len(arrays) > 0, \"at least one array should be passed\"\n",
    "    length = len(arrays[0])\n",
    "    for array in arrays:\n",
    "        assert len(array) == length, \"different size\"\n",
    "\n",
    "    initial_data = numpy.array(group_column)\n",
    "    assert len(initial_data) == length, \"group column must have the same length\"\n",
    "    group_ids = numpy.unique(initial_data)\n",
    "\n",
    "    train_indices, test_indices = cross_validation.train_test_split(group_ids, **kw_args)\n",
    "    train_indices = numpy.in1d(initial_data, train_indices)\n",
    "    test_indices = numpy.in1d(initial_data, test_indices)\n",
    "\n",
    "    result = []\n",
    "    for array in arrays:\n",
    "        if isinstance(array, pandas.DataFrame):\n",
    "            result.append(array.iloc[train_indices, :])\n",
    "            result.append(array.iloc[test_indices, :])\n",
    "        elif (array is None) and allow_none:\n",
    "            # specially for checking weights\n",
    "            result.append(None)\n",
    "            result.append(None)\n",
    "        else:\n",
    "            result.append(numpy.array(array)[train_indices])\n",
    "            result.append(numpy.array(array)[test_indices])\n",
    "    return result"
   ]
  },
  {
   "cell_type": "code",
   "execution_count": 4,
   "metadata": {
    "collapsed": true
   },
   "outputs": [],
   "source": [
    "data = pd.read_csv(\"training.csv\", sep=\",\")"
   ]
  },
  {
   "cell_type": "code",
   "execution_count": 5,
   "metadata": {
    "collapsed": false
   },
   "outputs": [
    {
     "data": {
      "text/html": [
       "<div>\n",
       "<table border=\"1\" class=\"dataframe\">\n",
       "  <thead>\n",
       "    <tr style=\"text-align: right;\">\n",
       "      <th></th>\n",
       "      <th>EventID</th>\n",
       "      <th>Label</th>\n",
       "      <th>Mass</th>\n",
       "      <th>Corrected_mass</th>\n",
       "      <th>Pt</th>\n",
       "      <th>Pt_sum</th>\n",
       "      <th>Pt_min</th>\n",
       "      <th>IP_chi2</th>\n",
       "      <th>IP_chi2_sum</th>\n",
       "      <th>Flight_distance</th>\n",
       "      <th>Pseudorapidity</th>\n",
       "      <th>Track_number_PV</th>\n",
       "      <th>Tracks_number</th>\n",
       "      <th>Tracks_number_passed</th>\n",
       "      <th>Vertex_chi2</th>\n",
       "      <th>Weight</th>\n",
       "    </tr>\n",
       "  </thead>\n",
       "  <tbody>\n",
       "    <tr>\n",
       "      <th>0</th>\n",
       "      <td>0</td>\n",
       "      <td>1</td>\n",
       "      <td>3440.680014</td>\n",
       "      <td>5202.580014</td>\n",
       "      <td>15583.900014</td>\n",
       "      <td>15793.800014</td>\n",
       "      <td>6499.170014</td>\n",
       "      <td>23.863914</td>\n",
       "      <td>281.409014</td>\n",
       "      <td>727.555014</td>\n",
       "      <td>2.581344</td>\n",
       "      <td>0</td>\n",
       "      <td>2</td>\n",
       "      <td>2</td>\n",
       "      <td>1.119164</td>\n",
       "      <td>2.834853</td>\n",
       "    </tr>\n",
       "    <tr>\n",
       "      <th>1</th>\n",
       "      <td>0</td>\n",
       "      <td>1</td>\n",
       "      <td>1319.829991</td>\n",
       "      <td>2465.479991</td>\n",
       "      <td>3477.259991</td>\n",
       "      <td>3593.409991</td>\n",
       "      <td>404.050991</td>\n",
       "      <td>34.731791</td>\n",
       "      <td>135.844991</td>\n",
       "      <td>165.981991</td>\n",
       "      <td>2.581401</td>\n",
       "      <td>0</td>\n",
       "      <td>2</td>\n",
       "      <td>1</td>\n",
       "      <td>0.004716</td>\n",
       "      <td>2.834853</td>\n",
       "    </tr>\n",
       "    <tr>\n",
       "      <th>2</th>\n",
       "      <td>0</td>\n",
       "      <td>1</td>\n",
       "      <td>2732.810016</td>\n",
       "      <td>5804.080016</td>\n",
       "      <td>9356.570016</td>\n",
       "      <td>9562.870016</td>\n",
       "      <td>406.027016</td>\n",
       "      <td>150.119016</td>\n",
       "      <td>348.274016</td>\n",
       "      <td>414.395016</td>\n",
       "      <td>2.579956</td>\n",
       "      <td>0</td>\n",
       "      <td>2</td>\n",
       "      <td>1</td>\n",
       "      <td>0.016452</td>\n",
       "      <td>2.834853</td>\n",
       "    </tr>\n",
       "    <tr>\n",
       "      <th>3</th>\n",
       "      <td>0</td>\n",
       "      <td>1</td>\n",
       "      <td>1674.579998</td>\n",
       "      <td>4423.859998</td>\n",
       "      <td>6889.459998</td>\n",
       "      <td>6981.049998</td>\n",
       "      <td>404.992998</td>\n",
       "      <td>84.545298</td>\n",
       "      <td>167.266998</td>\n",
       "      <td>167.871998</td>\n",
       "      <td>2.585178</td>\n",
       "      <td>0</td>\n",
       "      <td>2</td>\n",
       "      <td>1</td>\n",
       "      <td>0.085944</td>\n",
       "      <td>2.834853</td>\n",
       "    </tr>\n",
       "    <tr>\n",
       "      <th>4</th>\n",
       "      <td>0</td>\n",
       "      <td>1</td>\n",
       "      <td>1844.839993</td>\n",
       "      <td>5744.339993</td>\n",
       "      <td>12385.899993</td>\n",
       "      <td>12299.399993</td>\n",
       "      <td>3167.219993</td>\n",
       "      <td>110.864993</td>\n",
       "      <td>251.260993</td>\n",
       "      <td>350.210993</td>\n",
       "      <td>2.590683</td>\n",
       "      <td>0</td>\n",
       "      <td>2</td>\n",
       "      <td>2</td>\n",
       "      <td>1.167173</td>\n",
       "      <td>2.834853</td>\n",
       "    </tr>\n",
       "  </tbody>\n",
       "</table>\n",
       "</div>"
      ],
      "text/plain": [
       "   EventID  Label         Mass  Corrected_mass            Pt        Pt_sum  \\\n",
       "0        0      1  3440.680014     5202.580014  15583.900014  15793.800014   \n",
       "1        0      1  1319.829991     2465.479991   3477.259991   3593.409991   \n",
       "2        0      1  2732.810016     5804.080016   9356.570016   9562.870016   \n",
       "3        0      1  1674.579998     4423.859998   6889.459998   6981.049998   \n",
       "4        0      1  1844.839993     5744.339993  12385.899993  12299.399993   \n",
       "\n",
       "        Pt_min     IP_chi2  IP_chi2_sum  Flight_distance  Pseudorapidity  \\\n",
       "0  6499.170014   23.863914   281.409014       727.555014        2.581344   \n",
       "1   404.050991   34.731791   135.844991       165.981991        2.581401   \n",
       "2   406.027016  150.119016   348.274016       414.395016        2.579956   \n",
       "3   404.992998   84.545298   167.266998       167.871998        2.585178   \n",
       "4  3167.219993  110.864993   251.260993       350.210993        2.590683   \n",
       "\n",
       "   Track_number_PV  Tracks_number  Tracks_number_passed  Vertex_chi2    Weight  \n",
       "0                0              2                     2     1.119164  2.834853  \n",
       "1                0              2                     1     0.004716  2.834853  \n",
       "2                0              2                     1     0.016452  2.834853  \n",
       "3                0              2                     1     0.085944  2.834853  \n",
       "4                0              2                     2     1.167173  2.834853  "
      ]
     },
     "execution_count": 5,
     "metadata": {},
     "output_type": "execute_result"
    }
   ],
   "source": [
    "data.head()"
   ]
  },
  {
   "cell_type": "code",
   "execution_count": 6,
   "metadata": {
    "collapsed": false
   },
   "outputs": [
    {
     "data": {
      "text/plain": [
       "['Corrected_mass',\n",
       " 'Pt',\n",
       " 'IP_chi2',\n",
       " 'Vertex_chi2',\n",
       " 'Tracks_number',\n",
       " 'Tracks_number_passed',\n",
       " 'Mass',\n",
       " 'Pseudorapidity',\n",
       " 'IP_chi2_sum',\n",
       " 'Pt_sum',\n",
       " 'Pt_min',\n",
       " 'Flight_distance',\n",
       " 'Track_number_PV']"
      ]
     },
     "execution_count": 6,
     "metadata": {},
     "output_type": "execute_result"
    }
   ],
   "source": [
    "features = list(set(data.columns) - {'EventID', 'Label', 'Weight'})\n",
    "features"
   ]
  },
  {
   "cell_type": "code",
   "execution_count": 7,
   "metadata": {
    "collapsed": true
   },
   "outputs": [],
   "source": [
    "training_data, validation_data = train_test_split_group(data.EventID, data, random_state=11, train_size=0.66)"
   ]
  },
  {
   "cell_type": "code",
   "execution_count": 8,
   "metadata": {
    "collapsed": true
   },
   "outputs": [],
   "source": [
    "def compute_mean(event_ids, values):\n",
    "    number_of_sv_in_event = np.bincount(event_ids)\n",
    "    return np.bincount(event_ids, weights=values) / number_of_sv_in_event"
   ]
  },
  {
   "cell_type": "code",
   "execution_count": 9,
   "metadata": {
    "collapsed": true
   },
   "outputs": [],
   "source": [
    "def compute_max(event_ids, values):\n",
    "    max_values = numpy.zeros(numpy.amax(event_ids)+1)\n",
    "    for i in range(len(event_ids)):\n",
    "        if values[i] > max_values[event_ids[i]]:\n",
    "            max_values[event_ids[i]] = values[i]\n",
    "    max_values[max_values == 0] = numpy.nan\n",
    "    return max_values"
   ]
  },
  {
   "cell_type": "code",
   "execution_count": null,
   "metadata": {
    "collapsed": false
   },
   "outputs": [],
   "source": [
    "param_grid = {'learning_rate': [0.1, 0.05, 0.02, 0.01],\n",
    "              'max_depth': [6, 8, 10],\n",
    "              #'subsamples': [1.0, 0.8, 0.6],\n",
    "              'min_samples_leaf': [20, 50, 100, 150],\n",
    "              'max_features': [4, 6, 8, 10]\n",
    "              }\n",
    "\n",
    "gbclassifier = GradientBoostingClassifier(n_estimators=100, random_state=42)\n",
    "\n",
    "\n",
    "gs_cv = GridSearchCV(gbclassifier, param_grid, n_jobs=4).fit(training_data[features], training_data.Label)\n",
    "\n",
    "\n",
    "gs_cv.best_params_"
   ]
  },
  {
   "cell_type": "code",
   "execution_count": 18,
   "metadata": {
    "collapsed": false
   },
   "outputs": [
    {
     "data": {
      "text/plain": [
       "{'algorithm': 'SAMME.R', 'learning_rate': 0.1, 'n_estimators': 150}"
      ]
     },
     "execution_count": 18,
     "metadata": {},
     "output_type": "execute_result"
    }
   ],
   "source": [
    "param_grid = {'learning_rate': [0.1, 0.05, 0.02, 0.01],\n",
    "              'algorithm': ['SAMME', 'SAMME.R'],\n",
    "              'n_estimators': [50, 100, 150]\n",
    "              }\n",
    "\n",
    "abclassifier = AdaBoostClassifier()\n",
    "\n",
    "\n",
    "gs_cv = GridSearchCV(abclassifier, param_grid, n_jobs=4).fit(training_data[features], training_data.Label)\n",
    "\n",
    "\n",
    "gs_cv.best_params_"
   ]
  },
  {
   "cell_type": "code",
   "execution_count": 10,
   "metadata": {
    "collapsed": false
   },
   "outputs": [
    {
     "data": {
      "text/plain": [
       "GradientBoostingClassifier(criterion='friedman_mse', init=None,\n",
       "              learning_rate=0.05, loss='deviance', max_depth=10,\n",
       "              max_features=4, max_leaf_nodes=None,\n",
       "              min_impurity_split=1e-07, min_samples_leaf=100,\n",
       "              min_samples_split=2, min_weight_fraction_leaf=0.0,\n",
       "              n_estimators=100, presort='auto', random_state=42,\n",
       "              subsample=1.0, verbose=0, warm_start=False)"
      ]
     },
     "execution_count": 10,
     "metadata": {},
     "output_type": "execute_result"
    }
   ],
   "source": [
    "gbclassifier = GradientBoostingClassifier(n_estimators=100, random_state=42, learning_rate=0.05,\n",
    "                                          max_depth=10, max_features=4, min_samples_leaf=100)\n",
    "gbclassifier.fit(training_data[features], training_data.Label)"
   ]
  },
  {
   "cell_type": "code",
   "execution_count": 11,
   "metadata": {
    "collapsed": false
   },
   "outputs": [
    {
     "name": "stderr",
     "output_type": "stream",
     "text": [
      "C:\\Users\\igosh\\Anaconda3\\lib\\site-packages\\ipykernel\\__main__.py:3: RuntimeWarning: invalid value encountered in true_divide\n",
      "  app.launch_new_instance()\n"
     ]
    },
    {
     "data": {
      "text/plain": [
       "0.96290436009902136"
      ]
     },
     "execution_count": 11,
     "metadata": {},
     "output_type": "execute_result"
    }
   ],
   "source": [
    "# predict each SV\n",
    "proba = gbclassifier.predict_proba(validation_data[features])\n",
    "events_ids = np.unique(validation_data.EventID)\n",
    "\n",
    "# compute number of SVs in each event\n",
    "number_of_sv_in_event = np.bincount(validation_data.EventID)\n",
    "\n",
    "# compute predictions for events (take the mean value of predictions for SVs forming an event)\n",
    "events_proba = compute_max(numpy.array(validation_data.EventID), proba[:, 1])[events_ids]\n",
    "\n",
    "# compute weights for events \n",
    "events_weights = compute_mean(validation_data.EventID, validation_data.Weight)[events_ids]\n",
    "\n",
    "# compute labels for events \n",
    "events_labels = compute_mean(validation_data.EventID, validation_data.Label)[events_ids]\n",
    "\n",
    "roc_auc_score(events_labels, events_proba, sample_weight=events_weights)"
   ]
  },
  {
   "cell_type": "code",
   "execution_count": 22,
   "metadata": {
    "collapsed": false
   },
   "outputs": [
    {
     "name": "stderr",
     "output_type": "stream",
     "text": [
      "C:\\Users\\igosh\\Anaconda3\\lib\\site-packages\\ipykernel\\__main__.py:3: RuntimeWarning: invalid value encountered in true_divide\n",
      "  app.launch_new_instance()\n"
     ]
    },
    {
     "data": {
      "text/plain": [
       "0.95750652982042184"
      ]
     },
     "execution_count": 22,
     "metadata": {},
     "output_type": "execute_result"
    }
   ],
   "source": [
    "gbclassifier = GradientBoostingClassifier(n_estimators=2000, random_state=42, learning_rate=0.05,\n",
    "                                          max_depth=10, max_features=4, min_samples_leaf=100)\n",
    "gbclassifier.fit(training_data[features], training_data.Label)\n",
    "\n",
    "# predict each SV\n",
    "proba = gbclassifier.predict_proba(validation_data[features])\n",
    "events_ids = np.unique(validation_data.EventID)\n",
    "\n",
    "# compute number of SVs in each event\n",
    "number_of_sv_in_event = np.bincount(validation_data.EventID)\n",
    "\n",
    "# compute predictions for events (take the mean value of predictions for SVs forming an event)\n",
    "events_proba = compute_max(numpy.array(validation_data.EventID), proba[:, 1])[events_ids]\n",
    "\n",
    "# compute weights for events \n",
    "events_weights = compute_mean(validation_data.EventID, validation_data.Weight)[events_ids]\n",
    "\n",
    "# compute labels for events \n",
    "events_labels = compute_mean(validation_data.EventID, validation_data.Label)[events_ids]\n",
    "\n",
    "roc_auc_score(events_labels, events_proba, sample_weight=events_weights)"
   ]
  },
  {
   "cell_type": "code",
   "execution_count": 12,
   "metadata": {
    "collapsed": false
   },
   "outputs": [
    {
     "data": {
      "text/plain": [
       "RandomForestClassifier(bootstrap=True, class_weight=None, criterion='gini',\n",
       "            max_depth=6, max_features='auto', max_leaf_nodes=None,\n",
       "            min_impurity_split=1e-07, min_samples_leaf=1,\n",
       "            min_samples_split=2, min_weight_fraction_leaf=0.0,\n",
       "            n_estimators=500, n_jobs=1, oob_score=False, random_state=None,\n",
       "            verbose=0, warm_start=False)"
      ]
     },
     "execution_count": 12,
     "metadata": {},
     "output_type": "execute_result"
    }
   ],
   "source": [
    "rfclassifier = RandomForestClassifier(max_depth=6, n_estimators=500)\n",
    "rfclassifier.fit(training_data[features], training_data.Label)"
   ]
  },
  {
   "cell_type": "code",
   "execution_count": 13,
   "metadata": {
    "collapsed": false
   },
   "outputs": [
    {
     "name": "stderr",
     "output_type": "stream",
     "text": [
      "C:\\Users\\igosh\\Anaconda3\\lib\\site-packages\\ipykernel\\__main__.py:3: RuntimeWarning: invalid value encountered in true_divide\n",
      "  app.launch_new_instance()\n"
     ]
    },
    {
     "data": {
      "text/plain": [
       "0.94322849922427576"
      ]
     },
     "execution_count": 13,
     "metadata": {},
     "output_type": "execute_result"
    }
   ],
   "source": [
    "# predict each SV\n",
    "proba = rfclassifier.predict_proba(validation_data[features])\n",
    "events_ids = np.unique(validation_data.EventID)\n",
    "\n",
    "# compute number of SVs in each event\n",
    "number_of_sv_in_event = np.bincount(validation_data.EventID)\n",
    "\n",
    "# compute predictions for events (take the mean value of predictions for SVs forming an event)\n",
    "events_proba = compute_max(numpy.array(validation_data.EventID), proba[:, 1])[events_ids]\n",
    "\n",
    "# compute weights for events \n",
    "events_weights = compute_mean(validation_data.EventID, validation_data.Weight)[events_ids]\n",
    "\n",
    "# compute labels for events \n",
    "events_labels = compute_mean(validation_data.EventID, validation_data.Label)[events_ids]\n",
    "\n",
    "roc_auc_score(events_labels, events_proba, sample_weight=events_weights)"
   ]
  },
  {
   "cell_type": "code",
   "execution_count": 14,
   "metadata": {
    "collapsed": false
   },
   "outputs": [
    {
     "data": {
      "text/plain": [
       "AdaBoostClassifier(algorithm='SAMME.R', base_estimator=None,\n",
       "          learning_rate=0.1, n_estimators=150, random_state=None)"
      ]
     },
     "execution_count": 14,
     "metadata": {},
     "output_type": "execute_result"
    }
   ],
   "source": [
    "abclassifier = AdaBoostClassifier(algorithm='SAMME.R', learning_rate=0.1, n_estimators=150)\n",
    "abclassifier.fit(training_data[features], training_data.Label)"
   ]
  },
  {
   "cell_type": "code",
   "execution_count": 15,
   "metadata": {
    "collapsed": false
   },
   "outputs": [
    {
     "name": "stderr",
     "output_type": "stream",
     "text": [
      "C:\\Users\\igosh\\Anaconda3\\lib\\site-packages\\ipykernel\\__main__.py:3: RuntimeWarning: invalid value encountered in true_divide\n",
      "  app.launch_new_instance()\n"
     ]
    },
    {
     "data": {
      "text/plain": [
       "0.95273395244124004"
      ]
     },
     "execution_count": 15,
     "metadata": {},
     "output_type": "execute_result"
    }
   ],
   "source": [
    "# predict each SV\n",
    "proba = abclassifier.predict_proba(validation_data[features])\n",
    "events_ids = np.unique(validation_data.EventID)\n",
    "\n",
    "# compute number of SVs in each event\n",
    "number_of_sv_in_event = np.bincount(validation_data.EventID)\n",
    "\n",
    "# compute predictions for events (take the mean value of predictions for SVs forming an event)\n",
    "events_proba = compute_max(numpy.array(validation_data.EventID), proba[:, 1])[events_ids]\n",
    "\n",
    "# compute weights for events \n",
    "events_weights = compute_mean(validation_data.EventID, validation_data.Weight)[events_ids]\n",
    "\n",
    "# compute labels for events \n",
    "events_labels = compute_mean(validation_data.EventID, validation_data.Label)[events_ids]\n",
    "\n",
    "roc_auc_score(events_labels, events_proba, sample_weight=events_weights)"
   ]
  },
  {
   "cell_type": "code",
   "execution_count": 12,
   "metadata": {
    "collapsed": true
   },
   "outputs": [],
   "source": [
    "import xgboost as xgb "
   ]
  },
  {
   "cell_type": "code",
   "execution_count": 17,
   "metadata": {
    "collapsed": false
   },
   "outputs": [
    {
     "data": {
      "text/plain": [
       "XGBClassifier(base_score=0.5, colsample_bylevel=1, colsample_bytree=1,\n",
       "       gamma=0, learning_rate=0.1, max_delta_step=0, max_depth=3,\n",
       "       min_child_weight=1, missing=None, n_estimators=100, nthread=-1,\n",
       "       objective='binary:logistic', reg_alpha=0, reg_lambda=1,\n",
       "       scale_pos_weight=1, seed=0, silent=True, subsample=1)"
      ]
     },
     "execution_count": 17,
     "metadata": {},
     "output_type": "execute_result"
    }
   ],
   "source": [
    "xgbclassifier = xgb.XGBClassifier()\n",
    "xgbclassifier.fit(training_data[features], training_data.Label)"
   ]
  },
  {
   "cell_type": "code",
   "execution_count": 18,
   "metadata": {
    "collapsed": false
   },
   "outputs": [
    {
     "name": "stderr",
     "output_type": "stream",
     "text": [
      "C:\\Users\\igosh\\Anaconda3\\lib\\site-packages\\ipykernel\\__main__.py:3: RuntimeWarning: invalid value encountered in true_divide\n",
      "  app.launch_new_instance()\n"
     ]
    },
    {
     "data": {
      "text/plain": [
       "0.95864837019200388"
      ]
     },
     "execution_count": 18,
     "metadata": {},
     "output_type": "execute_result"
    }
   ],
   "source": [
    "# predict each SV\n",
    "proba = xgbclassifier.predict_proba(validation_data[features])\n",
    "events_ids = np.unique(validation_data.EventID)\n",
    "\n",
    "# compute number of SVs in each event\n",
    "number_of_sv_in_event = np.bincount(validation_data.EventID)\n",
    "\n",
    "# compute predictions for events (take the mean value of predictions for SVs forming an event)\n",
    "events_proba = compute_max(numpy.array(validation_data.EventID), proba[:, 1])[events_ids]\n",
    "\n",
    "# compute weights for events \n",
    "events_weights = compute_mean(validation_data.EventID, validation_data.Weight)[events_ids]\n",
    "\n",
    "# compute labels for events \n",
    "events_labels = compute_mean(validation_data.EventID, validation_data.Label)[events_ids]\n",
    "\n",
    "roc_auc_score(events_labels, events_proba, sample_weight=events_weights)"
   ]
  },
  {
   "cell_type": "code",
   "execution_count": 19,
   "metadata": {
    "collapsed": false
   },
   "outputs": [
    {
     "name": "stderr",
     "output_type": "stream",
     "text": [
      "C:\\Users\\igosh\\Anaconda3\\lib\\site-packages\\ipykernel\\__main__.py:3: RuntimeWarning: invalid value encountered in true_divide\n",
      "  app.launch_new_instance()\n"
     ]
    },
    {
     "data": {
      "text/plain": [
       "0.96214855688736522"
      ]
     },
     "execution_count": 19,
     "metadata": {},
     "output_type": "execute_result"
    }
   ],
   "source": [
    "xgbclassifier = xgb.XGBClassifier(learning_rate=0.15, max_depth=8)\n",
    "xgbclassifier.fit(training_data[features], training_data.Label)\n",
    "\n",
    "# predict each SV\n",
    "proba = xgbclassifier.predict_proba(validation_data[features])\n",
    "events_ids = np.unique(validation_data.EventID)\n",
    "\n",
    "# compute number of SVs in each event\n",
    "number_of_sv_in_event = np.bincount(validation_data.EventID)\n",
    "\n",
    "# compute predictions for events (take the mean value of predictions for SVs forming an event)\n",
    "events_proba = compute_max(numpy.array(validation_data.EventID), proba[:, 1])[events_ids]\n",
    "\n",
    "# compute weights for events \n",
    "events_weights = compute_mean(validation_data.EventID, validation_data.Weight)[events_ids]\n",
    "\n",
    "# compute labels for events \n",
    "events_labels = compute_mean(validation_data.EventID, validation_data.Label)[events_ids]\n",
    "\n",
    "roc_auc_score(events_labels, events_proba, sample_weight=events_weights)"
   ]
  },
  {
   "cell_type": "code",
   "execution_count": 31,
   "metadata": {
    "collapsed": false
   },
   "outputs": [
    {
     "data": {
      "text/plain": [
       "([mean: 0.92882, std: 0.00819, params: {'min_child_weight': 1, 'max_depth': 4},\n",
       "  mean: 0.92863, std: 0.00763, params: {'min_child_weight': 3, 'max_depth': 4},\n",
       "  mean: 0.92862, std: 0.00782, params: {'min_child_weight': 5, 'max_depth': 4},\n",
       "  mean: 0.92869, std: 0.00773, params: {'min_child_weight': 7, 'max_depth': 4},\n",
       "  mean: 0.92908, std: 0.00855, params: {'min_child_weight': 1, 'max_depth': 6},\n",
       "  mean: 0.93008, std: 0.00799, params: {'min_child_weight': 3, 'max_depth': 6},\n",
       "  mean: 0.92893, std: 0.00783, params: {'min_child_weight': 5, 'max_depth': 6},\n",
       "  mean: 0.92934, std: 0.00744, params: {'min_child_weight': 7, 'max_depth': 6},\n",
       "  mean: 0.92722, std: 0.00840, params: {'min_child_weight': 1, 'max_depth': 8},\n",
       "  mean: 0.92824, std: 0.00773, params: {'min_child_weight': 3, 'max_depth': 8},\n",
       "  mean: 0.92866, std: 0.00723, params: {'min_child_weight': 5, 'max_depth': 8},\n",
       "  mean: 0.92833, std: 0.00780, params: {'min_child_weight': 7, 'max_depth': 8},\n",
       "  mean: 0.92559, std: 0.00781, params: {'min_child_weight': 1, 'max_depth': 10},\n",
       "  mean: 0.92629, std: 0.00733, params: {'min_child_weight': 3, 'max_depth': 10},\n",
       "  mean: 0.92714, std: 0.00779, params: {'min_child_weight': 5, 'max_depth': 10},\n",
       "  mean: 0.92748, std: 0.00707, params: {'min_child_weight': 7, 'max_depth': 10}],\n",
       " {'max_depth': 6, 'min_child_weight': 3},\n",
       " 0.930076472945256)"
      ]
     },
     "execution_count": 31,
     "metadata": {},
     "output_type": "execute_result"
    }
   ],
   "source": [
    "param_test1 = {\n",
    " 'max_depth':[4,6,8,10],\n",
    " 'min_child_weight':[1,3,5,7]\n",
    "}\n",
    "\n",
    "gsearch1 = GridSearchCV(estimator = xgb.XGBClassifier( learning_rate=0.1, n_estimators=150, min_child_weight=1,\n",
    "gamma=0, subsample=0.8, colsample_bytree=0.8,\n",
    "objective='binary:logistic', nthread=4, scale_pos_weight=1, seed=27), \n",
    "param_grid = param_test1, scoring='roc_auc', n_jobs=4, iid=False, cv=5)\n",
    "\n",
    "gsearch1.fit(training_data[features], training_data.Label)\n",
    "\n",
    "gsearch1.grid_scores_, gsearch1.best_params_, gsearch1.best_score_"
   ]
  },
  {
   "cell_type": "code",
   "execution_count": 37,
   "metadata": {
    "collapsed": false
   },
   "outputs": [
    {
     "name": "stderr",
     "output_type": "stream",
     "text": [
      "C:\\Users\\igosh\\Anaconda3\\lib\\site-packages\\ipykernel\\__main__.py:3: RuntimeWarning: invalid value encountered in true_divide\n",
      "  app.launch_new_instance()\n"
     ]
    },
    {
     "data": {
      "text/plain": [
       "0.96415923462390529"
      ]
     },
     "execution_count": 37,
     "metadata": {},
     "output_type": "execute_result"
    }
   ],
   "source": [
    "xgbclassifier = xgb.XGBClassifier(learning_rate=0.1, n_estimators=150, min_child_weight=3,\n",
    "max_depth = 6, gamma=0, subsample=0.8, colsample_bytree=0.8,\n",
    "objective='binary:logistic', nthread=4, scale_pos_weight=1, seed=27)\n",
    "xgbclassifier.fit(training_data[features], training_data.Label)\n",
    "\n",
    "# predict each SV\n",
    "proba = xgbclassifier.predict_proba(validation_data[features])\n",
    "events_ids = np.unique(validation_data.EventID)\n",
    "\n",
    "# compute number of SVs in each event\n",
    "number_of_sv_in_event = np.bincount(validation_data.EventID)\n",
    "\n",
    "# compute predictions for events (take the mean value of predictions for SVs forming an event)\n",
    "events_proba = compute_max(numpy.array(validation_data.EventID), proba[:, 1])[events_ids]\n",
    "\n",
    "# compute weights for events \n",
    "events_weights = compute_mean(validation_data.EventID, validation_data.Weight)[events_ids]\n",
    "\n",
    "# compute labels for events \n",
    "events_labels = compute_mean(validation_data.EventID, validation_data.Label)[events_ids]\n",
    "\n",
    "roc_auc_score(events_labels, events_proba, sample_weight=events_weights)"
   ]
  },
  {
   "cell_type": "code",
   "execution_count": 39,
   "metadata": {
    "collapsed": false
   },
   "outputs": [
    {
     "data": {
      "text/plain": [
       "([mean: 0.93008, std: 0.00799, params: {'gamma': 0},\n",
       "  mean: 0.92990, std: 0.00752, params: {'gamma': 0.1},\n",
       "  mean: 0.92959, std: 0.00805, params: {'gamma': 0.2},\n",
       "  mean: 0.93006, std: 0.00732, params: {'gamma': 0.3},\n",
       "  mean: 0.92939, std: 0.00740, params: {'gamma': 0.4},\n",
       "  mean: 0.92968, std: 0.00749, params: {'gamma': 0.5}],\n",
       " {'gamma': 0},\n",
       " 0.930076472945256)"
      ]
     },
     "execution_count": 39,
     "metadata": {},
     "output_type": "execute_result"
    }
   ],
   "source": [
    "param_test3 = {\n",
    " 'gamma': [0, 0.1, 0.2, 0.3, 0.4, 0.5]\n",
    "}\n",
    "\n",
    "gsearch3 = GridSearchCV(estimator = xgb.XGBClassifier( learning_rate =0.1, n_estimators=150, max_depth=6,\n",
    " min_child_weight=3, subsample=0.8, colsample_bytree=0.8,\n",
    " objective= 'binary:logistic', nthread=4, scale_pos_weight=1,seed=27), \n",
    " param_grid = param_test3, scoring='roc_auc',n_jobs=4,iid=False, cv=5)\n",
    "\n",
    "gsearch3.fit(training_data[features], training_data.Label)\n",
    "gsearch3.grid_scores_, gsearch3.best_params_, gsearch3.best_score_"
   ]
  },
  {
   "cell_type": "code",
   "execution_count": 46,
   "metadata": {
    "collapsed": false
   },
   "outputs": [
    {
     "name": "stderr",
     "output_type": "stream",
     "text": [
      "C:\\Users\\igosh\\Anaconda3\\lib\\site-packages\\ipykernel\\__main__.py:3: RuntimeWarning: invalid value encountered in true_divide\n",
      "  app.launch_new_instance()\n"
     ]
    },
    {
     "data": {
      "text/plain": [
       "0.96471006757655431"
      ]
     },
     "execution_count": 46,
     "metadata": {},
     "output_type": "execute_result"
    }
   ],
   "source": [
    "xgbclassifier = xgb.XGBClassifier(learning_rate=0.1, n_estimators=150, min_child_weight=3,\n",
    "max_depth = 6, gamma=0.1, subsample=0.8, colsample_bytree=0.8,\n",
    "objective='binary:logistic', nthread=4, scale_pos_weight=1, seed=27)\n",
    "xgbclassifier.fit(training_data[features], training_data.Label)\n",
    "\n",
    "# predict each SV\n",
    "proba = xgbclassifier.predict_proba(validation_data[features])\n",
    "events_ids = np.unique(validation_data.EventID)\n",
    "\n",
    "# compute number of SVs in each event\n",
    "number_of_sv_in_event = np.bincount(validation_data.EventID)\n",
    "\n",
    "# compute predictions for events (take the mean value of predictions for SVs forming an event)\n",
    "events_proba = compute_max(numpy.array(validation_data.EventID), proba[:, 1])[events_ids]\n",
    "\n",
    "# compute weights for events \n",
    "events_weights = compute_mean(validation_data.EventID, validation_data.Weight)[events_ids]\n",
    "\n",
    "# compute labels for events \n",
    "events_labels = compute_mean(validation_data.EventID, validation_data.Label)[events_ids]\n",
    "\n",
    "roc_auc_score(events_labels, events_proba, sample_weight=events_weights)"
   ]
  },
  {
   "cell_type": "code",
   "execution_count": 48,
   "metadata": {
    "collapsed": false
   },
   "outputs": [
    {
     "data": {
      "text/plain": [
       "([mean: 0.92891, std: 0.00722, params: {'subsample': 0.5, 'colsample_bytree': 0.5},\n",
       "  mean: 0.92928, std: 0.00742, params: {'subsample': 0.6, 'colsample_bytree': 0.5},\n",
       "  mean: 0.92904, std: 0.00778, params: {'subsample': 0.7, 'colsample_bytree': 0.5},\n",
       "  mean: 0.92917, std: 0.00729, params: {'subsample': 0.8, 'colsample_bytree': 0.5},\n",
       "  mean: 0.92941, std: 0.00677, params: {'subsample': 0.9, 'colsample_bytree': 0.5},\n",
       "  mean: 0.92884, std: 0.00716, params: {'subsample': 0.5, 'colsample_bytree': 0.6},\n",
       "  mean: 0.92879, std: 0.00740, params: {'subsample': 0.6, 'colsample_bytree': 0.6},\n",
       "  mean: 0.92924, std: 0.00769, params: {'subsample': 0.7, 'colsample_bytree': 0.6},\n",
       "  mean: 0.92942, std: 0.00706, params: {'subsample': 0.8, 'colsample_bytree': 0.6},\n",
       "  mean: 0.92936, std: 0.00713, params: {'subsample': 0.9, 'colsample_bytree': 0.6},\n",
       "  mean: 0.92870, std: 0.00764, params: {'subsample': 0.5, 'colsample_bytree': 0.7},\n",
       "  mean: 0.92906, std: 0.00772, params: {'subsample': 0.6, 'colsample_bytree': 0.7},\n",
       "  mean: 0.92966, std: 0.00752, params: {'subsample': 0.7, 'colsample_bytree': 0.7},\n",
       "  mean: 0.92925, std: 0.00775, params: {'subsample': 0.8, 'colsample_bytree': 0.7},\n",
       "  mean: 0.92955, std: 0.00776, params: {'subsample': 0.9, 'colsample_bytree': 0.7},\n",
       "  mean: 0.92881, std: 0.00774, params: {'subsample': 0.5, 'colsample_bytree': 0.8},\n",
       "  mean: 0.92923, std: 0.00737, params: {'subsample': 0.6, 'colsample_bytree': 0.8},\n",
       "  mean: 0.92894, std: 0.00868, params: {'subsample': 0.7, 'colsample_bytree': 0.8},\n",
       "  mean: 0.92990, std: 0.00752, params: {'subsample': 0.8, 'colsample_bytree': 0.8},\n",
       "  mean: 0.92955, std: 0.00806, params: {'subsample': 0.9, 'colsample_bytree': 0.8},\n",
       "  mean: 0.92934, std: 0.00730, params: {'subsample': 0.5, 'colsample_bytree': 0.9},\n",
       "  mean: 0.92915, std: 0.00827, params: {'subsample': 0.6, 'colsample_bytree': 0.9},\n",
       "  mean: 0.92971, std: 0.00797, params: {'subsample': 0.7, 'colsample_bytree': 0.9},\n",
       "  mean: 0.92949, std: 0.00771, params: {'subsample': 0.8, 'colsample_bytree': 0.9},\n",
       "  mean: 0.92924, std: 0.00843, params: {'subsample': 0.9, 'colsample_bytree': 0.9}],\n",
       " {'colsample_bytree': 0.8, 'subsample': 0.8},\n",
       " 0.9298981800872144)"
      ]
     },
     "execution_count": 48,
     "metadata": {},
     "output_type": "execute_result"
    }
   ],
   "source": [
    "param_test4 = {\n",
    " 'subsample':[0.5, 0.6, 0.7, 0.8, 0.9],\n",
    " 'colsample_bytree': [0.5, 0.6, 0.7, 0.8, 0.9]\n",
    "}\n",
    "\n",
    "gsearch4 = GridSearchCV(estimator = xgb.XGBClassifier( learning_rate =0.1, n_estimators=150, max_depth=6,\n",
    " min_child_weight=3, gamma=0.1, subsample=0.8, colsample_bytree=0.8,\n",
    " objective= 'binary:logistic', nthread=4, scale_pos_weight=1,seed=27), \n",
    " param_grid = param_test4, scoring='roc_auc',n_jobs=4,iid=False, cv=5)\n",
    "\n",
    "gsearch4.fit(training_data[features], training_data.Label)\n",
    "gsearch4.grid_scores_, gsearch4.best_params_, gsearch4.best_score_"
   ]
  },
  {
   "cell_type": "code",
   "execution_count": 53,
   "metadata": {
    "collapsed": false
   },
   "outputs": [
    {
     "data": {
      "text/plain": [
       "([mean: 0.92891, std: 0.00722, params: {'subsample': 0.5, 'colsample_bytree': 0.5},\n",
       "  mean: 0.92928, std: 0.00742, params: {'subsample': 0.6, 'colsample_bytree': 0.5},\n",
       "  mean: 0.92904, std: 0.00778, params: {'subsample': 0.7, 'colsample_bytree': 0.5},\n",
       "  mean: 0.92917, std: 0.00729, params: {'subsample': 0.8, 'colsample_bytree': 0.5},\n",
       "  mean: 0.92941, std: 0.00677, params: {'subsample': 0.9, 'colsample_bytree': 0.5},\n",
       "  mean: 0.92884, std: 0.00716, params: {'subsample': 0.5, 'colsample_bytree': 0.6},\n",
       "  mean: 0.92879, std: 0.00740, params: {'subsample': 0.6, 'colsample_bytree': 0.6},\n",
       "  mean: 0.92924, std: 0.00769, params: {'subsample': 0.7, 'colsample_bytree': 0.6},\n",
       "  mean: 0.92942, std: 0.00706, params: {'subsample': 0.8, 'colsample_bytree': 0.6},\n",
       "  mean: 0.92936, std: 0.00713, params: {'subsample': 0.9, 'colsample_bytree': 0.6},\n",
       "  mean: 0.92870, std: 0.00764, params: {'subsample': 0.5, 'colsample_bytree': 0.7},\n",
       "  mean: 0.92906, std: 0.00772, params: {'subsample': 0.6, 'colsample_bytree': 0.7},\n",
       "  mean: 0.92966, std: 0.00752, params: {'subsample': 0.7, 'colsample_bytree': 0.7},\n",
       "  mean: 0.92925, std: 0.00775, params: {'subsample': 0.8, 'colsample_bytree': 0.7},\n",
       "  mean: 0.92955, std: 0.00776, params: {'subsample': 0.9, 'colsample_bytree': 0.7},\n",
       "  mean: 0.92881, std: 0.00774, params: {'subsample': 0.5, 'colsample_bytree': 0.8},\n",
       "  mean: 0.92923, std: 0.00737, params: {'subsample': 0.6, 'colsample_bytree': 0.8},\n",
       "  mean: 0.92894, std: 0.00868, params: {'subsample': 0.7, 'colsample_bytree': 0.8},\n",
       "  mean: 0.92990, std: 0.00752, params: {'subsample': 0.8, 'colsample_bytree': 0.8},\n",
       "  mean: 0.92955, std: 0.00806, params: {'subsample': 0.9, 'colsample_bytree': 0.8},\n",
       "  mean: 0.92934, std: 0.00730, params: {'subsample': 0.5, 'colsample_bytree': 0.9},\n",
       "  mean: 0.92915, std: 0.00827, params: {'subsample': 0.6, 'colsample_bytree': 0.9},\n",
       "  mean: 0.92971, std: 0.00797, params: {'subsample': 0.7, 'colsample_bytree': 0.9},\n",
       "  mean: 0.92949, std: 0.00771, params: {'subsample': 0.8, 'colsample_bytree': 0.9},\n",
       "  mean: 0.92924, std: 0.00843, params: {'subsample': 0.9, 'colsample_bytree': 0.9}],\n",
       " {'colsample_bytree': 0.8, 'subsample': 0.8},\n",
       " 0.9298981800872144)"
      ]
     },
     "execution_count": 53,
     "metadata": {},
     "output_type": "execute_result"
    }
   ],
   "source": [
    "param_test5 = {\n",
    " 'subsample':[0.75, 0.8, 0.85],\n",
    " 'colsample_bytree': [0.75, 0.8, 0.85]\n",
    "}\n",
    "\n",
    "gsearch5 = GridSearchCV(estimator = xgb.XGBClassifier( learning_rate =0.1, n_estimators=150, max_depth=6,\n",
    " min_child_weight=3, gamma=0.1, subsample=0.8, colsample_bytree=0.8,\n",
    " objective= 'binary:logistic', nthread=4, scale_pos_weight=1,seed=27), \n",
    " param_grid = param_test4, scoring='roc_auc',n_jobs=4,iid=False, cv=5)\n",
    "\n",
    "gsearch5.fit(training_data[features], training_data.Label)\n",
    "gsearch5.grid_scores_, gsearch5.best_params_, gsearch5.best_score_"
   ]
  },
  {
   "cell_type": "code",
   "execution_count": 58,
   "metadata": {
    "collapsed": false
   },
   "outputs": [
    {
     "data": {
      "text/plain": [
       "([mean: 0.92990, std: 0.00752, params: {'reg_alpha': 1e-05},\n",
       "  mean: 0.92972, std: 0.00756, params: {'reg_alpha': 0.01},\n",
       "  mean: 0.92953, std: 0.00763, params: {'reg_alpha': 0.1},\n",
       "  mean: 0.92988, std: 0.00742, params: {'reg_alpha': 1},\n",
       "  mean: 0.92343, std: 0.00864, params: {'reg_alpha': 100}],\n",
       " {'reg_alpha': 1e-05},\n",
       " 0.9298981731919647)"
      ]
     },
     "execution_count": 58,
     "metadata": {},
     "output_type": "execute_result"
    }
   ],
   "source": [
    "param_test6 = {\n",
    " 'reg_alpha':[1e-5, 1e-2, 0.1, 1, 100]\n",
    "}\n",
    "gsearch6 = GridSearchCV(estimator = xgb.XGBClassifier( learning_rate=0.1, n_estimators=150, max_depth=6,\n",
    "min_child_weight=3, gamma=0.1, subsample=0.8, colsample_bytree=0.8,\n",
    "objective= 'binary:logistic', nthread=4, scale_pos_weight=1, seed=27), \n",
    "param_grid = param_test6, scoring='roc_auc',n_jobs=4,iid=False, cv=5)\n",
    "\n",
    "gsearch6.fit(training_data[features], training_data.Label)\n",
    "gsearch6.grid_scores_, gsearch6.best_params_, gsearch6.best_score_"
   ]
  },
  {
   "cell_type": "code",
   "execution_count": 59,
   "metadata": {
    "collapsed": false
   },
   "outputs": [
    {
     "name": "stderr",
     "output_type": "stream",
     "text": [
      "C:\\Users\\igosh\\Anaconda3\\lib\\site-packages\\ipykernel\\__main__.py:3: RuntimeWarning: invalid value encountered in true_divide\n",
      "  app.launch_new_instance()\n"
     ]
    },
    {
     "data": {
      "text/plain": [
       "0.96471006757655442"
      ]
     },
     "execution_count": 59,
     "metadata": {},
     "output_type": "execute_result"
    }
   ],
   "source": [
    "xgbclassifier = xgb.XGBClassifier(learning_rate=0.1, n_estimators=150, min_child_weight=3,\n",
    "max_depth = 6, gamma=0.1, subsample=0.8, colsample_bytree=0.8,\n",
    "objective='binary:logistic', nthread=4, scale_pos_weight=1, seed=27,\n",
    "reg_alpha = 1e-05)\n",
    "xgbclassifier.fit(training_data[features], training_data.Label)\n",
    "\n",
    "# predict each SV\n",
    "proba = xgbclassifier.predict_proba(validation_data[features])\n",
    "events_ids = np.unique(validation_data.EventID)\n",
    "\n",
    "# compute number of SVs in each event\n",
    "number_of_sv_in_event = np.bincount(validation_data.EventID)\n",
    "\n",
    "# compute predictions for events (take the mean value of predictions for SVs forming an event)\n",
    "events_proba = compute_max(numpy.array(validation_data.EventID), proba[:, 1])[events_ids]\n",
    "\n",
    "# compute weights for events \n",
    "events_weights = compute_mean(validation_data.EventID, validation_data.Weight)[events_ids]\n",
    "\n",
    "# compute labels for events \n",
    "events_labels = compute_mean(validation_data.EventID, validation_data.Label)[events_ids]\n",
    "\n",
    "roc_auc_score(events_labels, events_proba, sample_weight=events_weights)"
   ]
  },
  {
   "cell_type": "code",
   "execution_count": 60,
   "metadata": {
    "collapsed": false
   },
   "outputs": [
    {
     "data": {
      "text/plain": [
       "([mean: 0.92877, std: 0.00858, params: {'learning_rate': 0.05},\n",
       "  mean: 0.92990, std: 0.00752, params: {'learning_rate': 0.1},\n",
       "  mean: 0.92790, std: 0.00822, params: {'learning_rate': 0.15},\n",
       "  mean: 0.92616, std: 0.00813, params: {'learning_rate': 0.2},\n",
       "  mean: 0.92399, std: 0.00901, params: {'learning_rate': 0.25},\n",
       "  mean: 0.92038, std: 0.00809, params: {'learning_rate': 0.3},\n",
       "  mean: 0.91966, std: 0.00742, params: {'learning_rate': 0.35},\n",
       "  mean: 0.91566, std: 0.00961, params: {'learning_rate': 0.4}],\n",
       " {'learning_rate': 0.1},\n",
       " 0.9298981731919647)"
      ]
     },
     "execution_count": 60,
     "metadata": {},
     "output_type": "execute_result"
    }
   ],
   "source": [
    "param_test6 = {\n",
    " 'learning_rate':[0.05, 0.1, 0.15, 0.2, 0.25, 0.3, 0.35, 0.4]\n",
    "}\n",
    "\n",
    "gsearch6 = GridSearchCV(estimator = xgb.XGBClassifier( learning_rate=0.1, n_estimators=150, max_depth=6,\n",
    "min_child_weight=3, gamma=0.1, subsample=0.8, colsample_bytree=0.8,\n",
    "objective= 'binary:logistic', nthread=4, scale_pos_weight=1, seed=27,\n",
    "reg_alpha = 1e-05),\n",
    "param_grid = param_test6, scoring='roc_auc',n_jobs=4,iid=False, cv=5)\n",
    "\n",
    "gsearch6.fit(training_data[features], training_data.Label)\n",
    "gsearch6.grid_scores_, gsearch6.best_params_, gsearch6.best_score_"
   ]
  },
  {
   "cell_type": "code",
   "execution_count": 62,
   "metadata": {
    "collapsed": false
   },
   "outputs": [
    {
     "data": {
      "text/plain": [
       "([mean: 0.92990, std: 0.00752, params: {'n_estimators': 150},\n",
       "  mean: 0.92877, std: 0.00748, params: {'n_estimators': 300},\n",
       "  mean: 0.92710, std: 0.00711, params: {'n_estimators': 500},\n",
       "  mean: 0.92481, std: 0.00723, params: {'n_estimators': 700},\n",
       "  mean: 0.92187, std: 0.00750, params: {'n_estimators': 1000},\n",
       "  mean: 0.91816, std: 0.00817, params: {'n_estimators': 1500},\n",
       "  mean: 0.91497, std: 0.00835, params: {'n_estimators': 2000}],\n",
       " {'n_estimators': 150},\n",
       " 0.9298981731919647)"
      ]
     },
     "execution_count": 62,
     "metadata": {},
     "output_type": "execute_result"
    }
   ],
   "source": [
    "param_test6 = {\n",
    " 'n_estimators':[150, 300, 500, 700, 1000, 1500, 2000]\n",
    "}\n",
    "\n",
    "gsearch6 = GridSearchCV(estimator = xgb.XGBClassifier( learning_rate=0.1, n_estimators=150, max_depth=6,\n",
    "min_child_weight=3, gamma=0.1, subsample=0.8, colsample_bytree=0.8,\n",
    "objective= 'binary:logistic', nthread=4, scale_pos_weight=1, seed=27,\n",
    "reg_alpha = 1e-05),\n",
    "param_grid = param_test6, scoring='roc_auc',n_jobs=4,iid=False, cv=5)\n",
    "\n",
    "gsearch6.fit(training_data[features], training_data.Label)\n",
    "gsearch6.grid_scores_, gsearch6.best_params_, gsearch6.best_score_"
   ]
  },
  {
   "cell_type": "code",
   "execution_count": 65,
   "metadata": {
    "collapsed": false
   },
   "outputs": [
    {
     "data": {
      "text/plain": [
       "([mean: 0.92983, std: 0.00804, params: {'seed': 5},\n",
       "  mean: 0.92991, std: 0.00788, params: {'seed': 15},\n",
       "  mean: 0.92967, std: 0.00796, params: {'seed': 25},\n",
       "  mean: 0.92916, std: 0.00780, params: {'seed': 35},\n",
       "  mean: 0.92962, std: 0.00829, params: {'seed': 50}],\n",
       " {'seed': 15},\n",
       " 0.9299050154653736)"
      ]
     },
     "execution_count": 65,
     "metadata": {},
     "output_type": "execute_result"
    }
   ],
   "source": [
    "param_test7 = {\n",
    " 'seed':[5, 15, 25, 35, 50]\n",
    "}\n",
    "\n",
    "gsearch7 = GridSearchCV(estimator = xgb.XGBClassifier( learning_rate=0.1, n_estimators=150, max_depth=6,\n",
    "min_child_weight=3, gamma=0.1, subsample=0.8, colsample_bytree=0.8,\n",
    "objective= 'binary:logistic', nthread=4, scale_pos_weight=1,\n",
    "reg_alpha = 1e-05),\n",
    "param_grid = param_test7, scoring='roc_auc',n_jobs=4,iid=False, cv=5)\n",
    "\n",
    "gsearch7.fit(training_data[features], training_data.Label)\n",
    "gsearch7.grid_scores_, gsearch7.best_params_, gsearch7.best_score_"
   ]
  },
  {
   "cell_type": "markdown",
   "metadata": {},
   "source": [
    "n_estimators = 1000"
   ]
  },
  {
   "cell_type": "code",
   "execution_count": 73,
   "metadata": {
    "collapsed": false
   },
   "outputs": [
    {
     "data": {
      "text/plain": [
       "[mean: 0.92876, std: 0.00710, params: {'min_child_weight': 1, 'max_depth': 3},\n",
       " mean: 0.92878, std: 0.00717, params: {'min_child_weight': 3, 'max_depth': 3},\n",
       " mean: 0.92831, std: 0.00712, params: {'min_child_weight': 5, 'max_depth': 3},\n",
       " mean: 0.92486, std: 0.00811, params: {'min_child_weight': 1, 'max_depth': 5},\n",
       " mean: 0.92480, std: 0.00783, params: {'min_child_weight': 3, 'max_depth': 5},\n",
       " mean: 0.92499, std: 0.00749, params: {'min_child_weight': 5, 'max_depth': 5},\n",
       " mean: 0.91848, std: 0.00874, params: {'min_child_weight': 1, 'max_depth': 7},\n",
       " mean: 0.91932, std: 0.00812, params: {'min_child_weight': 3, 'max_depth': 7},\n",
       " mean: 0.91904, std: 0.00787, params: {'min_child_weight': 5, 'max_depth': 7}]"
      ]
     },
     "execution_count": 73,
     "metadata": {},
     "output_type": "execute_result"
    }
   ],
   "source": [
    "cv_params = {'max_depth': [3,5,7], 'min_child_weight': [1,3,5]}\n",
    "ind_params = {'learning_rate': 0.1, 'n_estimators': 1000, 'seed':0, 'subsample': 0.8, 'colsample_bytree': 0.8, \n",
    "             'objective': 'binary:logistic'}\n",
    "\n",
    "optimized_GBM = GridSearchCV(xgb.XGBClassifier(**ind_params), \n",
    "                            cv_params, \n",
    "                             scoring = 'roc_auc', cv = 5, n_jobs = -1)\n",
    "\n",
    "optimized_GBM.fit(training_data[features], training_data.Label)\n",
    "optimized_GBM.grid_scores_"
   ]
  },
  {
   "cell_type": "code",
   "execution_count": 76,
   "metadata": {
    "collapsed": false
   },
   "outputs": [
    {
     "data": {
      "text/plain": [
       "{'max_depth': 3, 'min_child_weight': 3}"
      ]
     },
     "execution_count": 76,
     "metadata": {},
     "output_type": "execute_result"
    }
   ],
   "source": [
    "optimized_GBM.best_params_"
   ]
  },
  {
   "cell_type": "code",
   "execution_count": 77,
   "metadata": {
    "collapsed": false
   },
   "outputs": [
    {
     "data": {
      "text/plain": [
       "{'min_child_weight': 2}"
      ]
     },
     "execution_count": 77,
     "metadata": {},
     "output_type": "execute_result"
    }
   ],
   "source": [
    "cv_params = {'min_child_weight': [2,3]}\n",
    "ind_params = {'learning_rate': 0.1, 'n_estimators': 1000, 'max_depth': 3, 'seed':0, 'subsample': 0.8, 'colsample_bytree': 0.8, \n",
    "             'objective': 'binary:logistic'}\n",
    "\n",
    "optimized_GBM = GridSearchCV(xgb.XGBClassifier(**ind_params), \n",
    "                            cv_params, \n",
    "                            scoring = 'roc_auc', cv = 5, n_jobs = -1)\n",
    "\n",
    "optimized_GBM.fit(training_data[features], training_data.Label)\n",
    "optimized_GBM.grid_scores_\n",
    "optimized_GBM.best_params_"
   ]
  },
  {
   "cell_type": "code",
   "execution_count": 78,
   "metadata": {
    "collapsed": false
   },
   "outputs": [
    {
     "data": {
      "text/plain": [
       "{'learning_rate': 0.1, 'subsample': 0.8}"
      ]
     },
     "execution_count": 78,
     "metadata": {},
     "output_type": "execute_result"
    }
   ],
   "source": [
    "cv_params = {'learning_rate': [0.01, 0.1, 0.2], 'subsample':[0.7, 0.8, 0.9]}\n",
    "ind_params = {'n_estimators': 1000, 'max_depth': 3, 'min_child_weight': 2,'seed': 0, 'colsample_bytree': 0.8, \n",
    "             'objective': 'binary:logistic'}\n",
    "\n",
    "optimized_GBM = GridSearchCV(xgb.XGBClassifier(**ind_params), \n",
    "                            cv_params, \n",
    "                             scoring = 'roc_auc', cv = 5, n_jobs = -1)\n",
    "\n",
    "optimized_GBM.fit(training_data[features], training_data.Label)\n",
    "optimized_GBM.grid_scores_\n",
    "optimized_GBM.best_params_"
   ]
  },
  {
   "cell_type": "code",
   "execution_count": 13,
   "metadata": {
    "collapsed": false
   },
   "outputs": [
    {
     "name": "stderr",
     "output_type": "stream",
     "text": [
      "C:\\Users\\igosh\\Anaconda3\\lib\\site-packages\\ipykernel\\__main__.py:3: RuntimeWarning: invalid value encountered in true_divide\n",
      "  app.launch_new_instance()\n"
     ]
    },
    {
     "data": {
      "text/plain": [
       "0.96275514032549481"
      ]
     },
     "execution_count": 13,
     "metadata": {},
     "output_type": "execute_result"
    }
   ],
   "source": [
    "xgbclassifier = xgb.XGBClassifier(n_estimators=1000, max_depth=3, min_child_weight=2,seed=0, colsample_bytree=0.8, \n",
    "             objective='binary:logistic', learning_rate=0.1, subsample=0.8)\n",
    "xgbclassifier.fit(training_data[features], training_data.Label)\n",
    "\n",
    "# predict each SV\n",
    "proba = xgbclassifier.predict_proba(validation_data[features])\n",
    "events_ids = np.unique(validation_data.EventID)\n",
    "\n",
    "# compute number of SVs in each event\n",
    "number_of_sv_in_event = np.bincount(validation_data.EventID)\n",
    "\n",
    "# compute predictions for events (take the mean value of predictions for SVs forming an event)\n",
    "events_proba = compute_max(numpy.array(validation_data.EventID), proba[:, 1])[events_ids]\n",
    "\n",
    "# compute weights for events \n",
    "events_weights = compute_mean(validation_data.EventID, validation_data.Weight)[events_ids]\n",
    "\n",
    "# compute labels for events \n",
    "events_labels = compute_mean(validation_data.EventID, validation_data.Label)[events_ids]\n",
    "\n",
    "roc_auc_score(events_labels, events_proba, sample_weight=events_weights)"
   ]
  }
 ],
 "metadata": {
  "anaconda-cloud": {},
  "kernelspec": {
   "display_name": "Python [default]",
   "language": "python",
   "name": "python3"
  },
  "language_info": {
   "codemirror_mode": {
    "name": "ipython",
    "version": 3
   },
   "file_extension": ".py",
   "mimetype": "text/x-python",
   "name": "python",
   "nbconvert_exporter": "python",
   "pygments_lexer": "ipython3",
   "version": "3.5.2"
  }
 },
 "nbformat": 4,
 "nbformat_minor": 1
}
