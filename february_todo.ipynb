{
 "cells": [
  {
   "cell_type": "code",
   "execution_count": 24,
   "metadata": {
    "collapsed": false
   },
   "outputs": [],
   "source": [
    "from matplotlib import pyplot as plt\n",
    "%matplotlib inline\n",
    "\n",
    "import numpy\n",
    "import pandas\n",
    "import pandas as pd\n",
    "import numpy as np\n",
    "from sklearn.tree import DecisionTreeClassifier\n",
    "from sklearn.ensemble import BaggingClassifier, RandomForestClassifier, GradientBoostingClassifier\n",
    "from sklearn.cross_validation import cross_val_score\n",
    "from sklearn.model_selection import train_test_split, GroupShuffleSplit\n",
    "from sklearn.metrics import accuracy_score, roc_auc_score, roc_curve, auc\n",
    "from sklearn.linear_model import LogisticRegression\n"
   ]
  },
  {
   "cell_type": "code",
   "execution_count": 25,
   "metadata": {
    "collapsed": true
   },
   "outputs": [],
   "source": [
    "def train_test_split_group(group_column, *arrays, **kw_args):\n",
    "   \n",
    "    from sklearn import cross_validation\n",
    "    allow_none = kw_args.pop('allow_none', None)\n",
    "\n",
    "    assert len(arrays) > 0, \"at least one array should be passed\"\n",
    "    length = len(arrays[0])\n",
    "    for array in arrays:\n",
    "        assert len(array) == length, \"different size\"\n",
    "\n",
    "    initial_data = numpy.array(group_column)\n",
    "    assert len(initial_data) == length, \"group column must have the same length\"\n",
    "    group_ids = numpy.unique(initial_data)\n",
    "\n",
    "    train_indices, test_indices = cross_validation.train_test_split(group_ids, **kw_args)\n",
    "    train_indices = numpy.in1d(initial_data, train_indices)\n",
    "    test_indices = numpy.in1d(initial_data, test_indices)\n",
    "\n",
    "    result = []\n",
    "    for array in arrays:\n",
    "        if isinstance(array, pandas.DataFrame):\n",
    "            result.append(array.iloc[train_indices, :])\n",
    "            result.append(array.iloc[test_indices, :])\n",
    "        elif (array is None) and allow_none:\n",
    "            # specially for checking weights\n",
    "            result.append(None)\n",
    "            result.append(None)\n",
    "        else:\n",
    "            result.append(numpy.array(array)[train_indices])\n",
    "            result.append(numpy.array(array)[test_indices])\n",
    "    return result"
   ]
  },
  {
   "cell_type": "code",
   "execution_count": 26,
   "metadata": {
    "collapsed": false
   },
   "outputs": [],
   "source": [
    "data = pd.read_csv(\"training.csv\", sep=\",\")"
   ]
  },
  {
   "cell_type": "code",
   "execution_count": 27,
   "metadata": {
    "collapsed": false
   },
   "outputs": [
    {
     "data": {
      "text/html": [
       "<div>\n",
       "<table border=\"1\" class=\"dataframe\">\n",
       "  <thead>\n",
       "    <tr style=\"text-align: right;\">\n",
       "      <th></th>\n",
       "      <th>EventID</th>\n",
       "      <th>Label</th>\n",
       "      <th>Mass</th>\n",
       "      <th>Corrected_mass</th>\n",
       "      <th>Pt</th>\n",
       "      <th>Pt_sum</th>\n",
       "      <th>Pt_min</th>\n",
       "      <th>IP_chi2</th>\n",
       "      <th>IP_chi2_sum</th>\n",
       "      <th>Flight_distance</th>\n",
       "      <th>Pseudorapidity</th>\n",
       "      <th>Track_number_PV</th>\n",
       "      <th>Tracks_number</th>\n",
       "      <th>Tracks_number_passed</th>\n",
       "      <th>Vertex_chi2</th>\n",
       "      <th>Weight</th>\n",
       "    </tr>\n",
       "  </thead>\n",
       "  <tbody>\n",
       "    <tr>\n",
       "      <th>0</th>\n",
       "      <td>0</td>\n",
       "      <td>1</td>\n",
       "      <td>3440.680014</td>\n",
       "      <td>5202.580014</td>\n",
       "      <td>15583.900014</td>\n",
       "      <td>15793.800014</td>\n",
       "      <td>6499.170014</td>\n",
       "      <td>23.863914</td>\n",
       "      <td>281.409014</td>\n",
       "      <td>727.555014</td>\n",
       "      <td>2.581344</td>\n",
       "      <td>0</td>\n",
       "      <td>2</td>\n",
       "      <td>2</td>\n",
       "      <td>1.119164</td>\n",
       "      <td>2.834853</td>\n",
       "    </tr>\n",
       "    <tr>\n",
       "      <th>1</th>\n",
       "      <td>0</td>\n",
       "      <td>1</td>\n",
       "      <td>1319.829991</td>\n",
       "      <td>2465.479991</td>\n",
       "      <td>3477.259991</td>\n",
       "      <td>3593.409991</td>\n",
       "      <td>404.050991</td>\n",
       "      <td>34.731791</td>\n",
       "      <td>135.844991</td>\n",
       "      <td>165.981991</td>\n",
       "      <td>2.581401</td>\n",
       "      <td>0</td>\n",
       "      <td>2</td>\n",
       "      <td>1</td>\n",
       "      <td>0.004716</td>\n",
       "      <td>2.834853</td>\n",
       "    </tr>\n",
       "    <tr>\n",
       "      <th>2</th>\n",
       "      <td>0</td>\n",
       "      <td>1</td>\n",
       "      <td>2732.810016</td>\n",
       "      <td>5804.080016</td>\n",
       "      <td>9356.570016</td>\n",
       "      <td>9562.870016</td>\n",
       "      <td>406.027016</td>\n",
       "      <td>150.119016</td>\n",
       "      <td>348.274016</td>\n",
       "      <td>414.395016</td>\n",
       "      <td>2.579956</td>\n",
       "      <td>0</td>\n",
       "      <td>2</td>\n",
       "      <td>1</td>\n",
       "      <td>0.016452</td>\n",
       "      <td>2.834853</td>\n",
       "    </tr>\n",
       "    <tr>\n",
       "      <th>3</th>\n",
       "      <td>0</td>\n",
       "      <td>1</td>\n",
       "      <td>1674.579998</td>\n",
       "      <td>4423.859998</td>\n",
       "      <td>6889.459998</td>\n",
       "      <td>6981.049998</td>\n",
       "      <td>404.992998</td>\n",
       "      <td>84.545298</td>\n",
       "      <td>167.266998</td>\n",
       "      <td>167.871998</td>\n",
       "      <td>2.585178</td>\n",
       "      <td>0</td>\n",
       "      <td>2</td>\n",
       "      <td>1</td>\n",
       "      <td>0.085944</td>\n",
       "      <td>2.834853</td>\n",
       "    </tr>\n",
       "    <tr>\n",
       "      <th>4</th>\n",
       "      <td>0</td>\n",
       "      <td>1</td>\n",
       "      <td>1844.839993</td>\n",
       "      <td>5744.339993</td>\n",
       "      <td>12385.899993</td>\n",
       "      <td>12299.399993</td>\n",
       "      <td>3167.219993</td>\n",
       "      <td>110.864993</td>\n",
       "      <td>251.260993</td>\n",
       "      <td>350.210993</td>\n",
       "      <td>2.590683</td>\n",
       "      <td>0</td>\n",
       "      <td>2</td>\n",
       "      <td>2</td>\n",
       "      <td>1.167173</td>\n",
       "      <td>2.834853</td>\n",
       "    </tr>\n",
       "  </tbody>\n",
       "</table>\n",
       "</div>"
      ],
      "text/plain": [
       "   EventID  Label         Mass  Corrected_mass            Pt        Pt_sum  \\\n",
       "0        0      1  3440.680014     5202.580014  15583.900014  15793.800014   \n",
       "1        0      1  1319.829991     2465.479991   3477.259991   3593.409991   \n",
       "2        0      1  2732.810016     5804.080016   9356.570016   9562.870016   \n",
       "3        0      1  1674.579998     4423.859998   6889.459998   6981.049998   \n",
       "4        0      1  1844.839993     5744.339993  12385.899993  12299.399993   \n",
       "\n",
       "        Pt_min     IP_chi2  IP_chi2_sum  Flight_distance  Pseudorapidity  \\\n",
       "0  6499.170014   23.863914   281.409014       727.555014        2.581344   \n",
       "1   404.050991   34.731791   135.844991       165.981991        2.581401   \n",
       "2   406.027016  150.119016   348.274016       414.395016        2.579956   \n",
       "3   404.992998   84.545298   167.266998       167.871998        2.585178   \n",
       "4  3167.219993  110.864993   251.260993       350.210993        2.590683   \n",
       "\n",
       "   Track_number_PV  Tracks_number  Tracks_number_passed  Vertex_chi2    Weight  \n",
       "0                0              2                     2     1.119164  2.834853  \n",
       "1                0              2                     1     0.004716  2.834853  \n",
       "2                0              2                     1     0.016452  2.834853  \n",
       "3                0              2                     1     0.085944  2.834853  \n",
       "4                0              2                     2     1.167173  2.834853  "
      ]
     },
     "execution_count": 27,
     "metadata": {},
     "output_type": "execute_result"
    }
   ],
   "source": [
    "data.head()"
   ]
  },
  {
   "cell_type": "code",
   "execution_count": 28,
   "metadata": {
    "collapsed": false
   },
   "outputs": [
    {
     "data": {
      "text/plain": [
       "(498412, 16)"
      ]
     },
     "execution_count": 28,
     "metadata": {},
     "output_type": "execute_result"
    }
   ],
   "source": [
    "data.shape"
   ]
  },
  {
   "cell_type": "code",
   "execution_count": 29,
   "metadata": {
    "collapsed": false
   },
   "outputs": [
    {
     "data": {
      "text/plain": [
       "484879"
      ]
     },
     "execution_count": 29,
     "metadata": {},
     "output_type": "execute_result"
    }
   ],
   "source": [
    "data[\"Label\"].sum()"
   ]
  },
  {
   "cell_type": "code",
   "execution_count": 30,
   "metadata": {
    "collapsed": true
   },
   "outputs": [],
   "source": [
    "y = data['Label']"
   ]
  },
  {
   "cell_type": "code",
   "execution_count": 31,
   "metadata": {
    "collapsed": false
   },
   "outputs": [],
   "source": [
    "data.drop([\"Label\", \"EventID\", \"Weight\"], axis=1, inplace=True)"
   ]
  },
  {
   "cell_type": "code",
   "execution_count": 32,
   "metadata": {
    "collapsed": true
   },
   "outputs": [],
   "source": [
    "x = data"
   ]
  },
  {
   "cell_type": "code",
   "execution_count": 33,
   "metadata": {
    "collapsed": false
   },
   "outputs": [
    {
     "data": {
      "text/html": [
       "<div>\n",
       "<table border=\"1\" class=\"dataframe\">\n",
       "  <thead>\n",
       "    <tr style=\"text-align: right;\">\n",
       "      <th></th>\n",
       "      <th>Mass</th>\n",
       "      <th>Corrected_mass</th>\n",
       "      <th>Pt</th>\n",
       "      <th>Pt_sum</th>\n",
       "      <th>Pt_min</th>\n",
       "      <th>IP_chi2</th>\n",
       "      <th>IP_chi2_sum</th>\n",
       "      <th>Flight_distance</th>\n",
       "      <th>Pseudorapidity</th>\n",
       "      <th>Track_number_PV</th>\n",
       "      <th>Tracks_number</th>\n",
       "      <th>Tracks_number_passed</th>\n",
       "      <th>Vertex_chi2</th>\n",
       "    </tr>\n",
       "  </thead>\n",
       "  <tbody>\n",
       "    <tr>\n",
       "      <th>0</th>\n",
       "      <td>3440.680014</td>\n",
       "      <td>5202.580014</td>\n",
       "      <td>15583.900014</td>\n",
       "      <td>15793.800014</td>\n",
       "      <td>6499.170014</td>\n",
       "      <td>23.863914</td>\n",
       "      <td>281.409014</td>\n",
       "      <td>727.555014</td>\n",
       "      <td>2.581344</td>\n",
       "      <td>0</td>\n",
       "      <td>2</td>\n",
       "      <td>2</td>\n",
       "      <td>1.119164</td>\n",
       "    </tr>\n",
       "    <tr>\n",
       "      <th>1</th>\n",
       "      <td>1319.829991</td>\n",
       "      <td>2465.479991</td>\n",
       "      <td>3477.259991</td>\n",
       "      <td>3593.409991</td>\n",
       "      <td>404.050991</td>\n",
       "      <td>34.731791</td>\n",
       "      <td>135.844991</td>\n",
       "      <td>165.981991</td>\n",
       "      <td>2.581401</td>\n",
       "      <td>0</td>\n",
       "      <td>2</td>\n",
       "      <td>1</td>\n",
       "      <td>0.004716</td>\n",
       "    </tr>\n",
       "    <tr>\n",
       "      <th>2</th>\n",
       "      <td>2732.810016</td>\n",
       "      <td>5804.080016</td>\n",
       "      <td>9356.570016</td>\n",
       "      <td>9562.870016</td>\n",
       "      <td>406.027016</td>\n",
       "      <td>150.119016</td>\n",
       "      <td>348.274016</td>\n",
       "      <td>414.395016</td>\n",
       "      <td>2.579956</td>\n",
       "      <td>0</td>\n",
       "      <td>2</td>\n",
       "      <td>1</td>\n",
       "      <td>0.016452</td>\n",
       "    </tr>\n",
       "    <tr>\n",
       "      <th>3</th>\n",
       "      <td>1674.579998</td>\n",
       "      <td>4423.859998</td>\n",
       "      <td>6889.459998</td>\n",
       "      <td>6981.049998</td>\n",
       "      <td>404.992998</td>\n",
       "      <td>84.545298</td>\n",
       "      <td>167.266998</td>\n",
       "      <td>167.871998</td>\n",
       "      <td>2.585178</td>\n",
       "      <td>0</td>\n",
       "      <td>2</td>\n",
       "      <td>1</td>\n",
       "      <td>0.085944</td>\n",
       "    </tr>\n",
       "    <tr>\n",
       "      <th>4</th>\n",
       "      <td>1844.839993</td>\n",
       "      <td>5744.339993</td>\n",
       "      <td>12385.899993</td>\n",
       "      <td>12299.399993</td>\n",
       "      <td>3167.219993</td>\n",
       "      <td>110.864993</td>\n",
       "      <td>251.260993</td>\n",
       "      <td>350.210993</td>\n",
       "      <td>2.590683</td>\n",
       "      <td>0</td>\n",
       "      <td>2</td>\n",
       "      <td>2</td>\n",
       "      <td>1.167173</td>\n",
       "    </tr>\n",
       "  </tbody>\n",
       "</table>\n",
       "</div>"
      ],
      "text/plain": [
       "          Mass  Corrected_mass            Pt        Pt_sum       Pt_min  \\\n",
       "0  3440.680014     5202.580014  15583.900014  15793.800014  6499.170014   \n",
       "1  1319.829991     2465.479991   3477.259991   3593.409991   404.050991   \n",
       "2  2732.810016     5804.080016   9356.570016   9562.870016   406.027016   \n",
       "3  1674.579998     4423.859998   6889.459998   6981.049998   404.992998   \n",
       "4  1844.839993     5744.339993  12385.899993  12299.399993  3167.219993   \n",
       "\n",
       "      IP_chi2  IP_chi2_sum  Flight_distance  Pseudorapidity  Track_number_PV  \\\n",
       "0   23.863914   281.409014       727.555014        2.581344                0   \n",
       "1   34.731791   135.844991       165.981991        2.581401                0   \n",
       "2  150.119016   348.274016       414.395016        2.579956                0   \n",
       "3   84.545298   167.266998       167.871998        2.585178                0   \n",
       "4  110.864993   251.260993       350.210993        2.590683                0   \n",
       "\n",
       "   Tracks_number  Tracks_number_passed  Vertex_chi2  \n",
       "0              2                     2     1.119164  \n",
       "1              2                     1     0.004716  \n",
       "2              2                     1     0.016452  \n",
       "3              2                     1     0.085944  \n",
       "4              2                     2     1.167173  "
      ]
     },
     "execution_count": 33,
     "metadata": {},
     "output_type": "execute_result"
    }
   ],
   "source": [
    "x.head()"
   ]
  },
  {
   "cell_type": "markdown",
   "metadata": {},
   "source": [
    "Заготовки для дальнейшего обучения"
   ]
  },
  {
   "cell_type": "code",
   "execution_count": 34,
   "metadata": {
    "collapsed": true
   },
   "outputs": [],
   "source": [
    "x_train, x_test, y_train, y_test = train_test_split(x, y, test_size=0.25, random_state=42)"
   ]
  },
  {
   "cell_type": "code",
   "execution_count": 35,
   "metadata": {
    "collapsed": false
   },
   "outputs": [],
   "source": [
    "#classifier = RandomForestClassifier(n_estimators=100, max_depth=6)\n",
    "#classifier.fit(x_train, y_train)\n",
    "\n",
    "#predicted = classifier.predict_proba(x_test)[:, 1]"
   ]
  },
  {
   "cell_type": "code",
   "execution_count": 36,
   "metadata": {
    "collapsed": false
   },
   "outputs": [],
   "source": [
    "#roc_auc_score(y_test, predicted)"
   ]
  },
  {
   "cell_type": "code",
   "execution_count": 37,
   "metadata": {
    "collapsed": true
   },
   "outputs": [],
   "source": [
    "#fpr, tpr, _ = roc_curve(y_test, predicted)"
   ]
  },
  {
   "cell_type": "code",
   "execution_count": 38,
   "metadata": {
    "collapsed": false
   },
   "outputs": [
    {
     "data": {
      "text/plain": [
       "'plt.figure()\\nlw = 2\\nplt.plot(fpr, tpr, color=\\'orange\\',\\n         lw=lw, label=\\'ROC curve (area = %0.5f)\\' % auc(fpr,tpr))\\nplt.plot([0, 1], [0, 1], color=\\'navy\\', lw=lw, linestyle=\\'--\\')\\nplt.xlim([0.0, 0.2])\\nplt.ylim([0.0, 1.05])\\nplt.xlabel(\\'False Positive Rate\\')\\nplt.ylabel(\\'True Positive Rate\\')\\nplt.legend(loc=\"lower right\")\\nplt.grid()\\nplt.show()'"
      ]
     },
     "execution_count": 38,
     "metadata": {},
     "output_type": "execute_result"
    }
   ],
   "source": [
    "\"\"\"plt.figure()\n",
    "lw = 2\n",
    "plt.plot(fpr, tpr, color='orange',\n",
    "         lw=lw, label='ROC curve (area = %0.5f)' % auc(fpr,tpr))\n",
    "plt.plot([0, 1], [0, 1], color='navy', lw=lw, linestyle='--')\n",
    "plt.xlim([0.0, 0.2])\n",
    "plt.ylim([0.0, 1.05])\n",
    "plt.xlabel('False Positive Rate')\n",
    "plt.ylabel('True Positive Rate')\n",
    "plt.legend(loc=\"lower right\")\n",
    "plt.grid()\n",
    "plt.show()\"\"\""
   ]
  },
  {
   "cell_type": "code",
   "execution_count": 39,
   "metadata": {
    "collapsed": false
   },
   "outputs": [],
   "source": [
    "#logreg = LogisticRegression()\n",
    "#logreg.fit(x_train, y_train)\n",
    "\n",
    "#predicted = logreg.predict_proba(x_test)\n",
    "   #roc_auc_score(y_test, predicted)"
   ]
  },
  {
   "cell_type": "code",
   "execution_count": 40,
   "metadata": {
    "collapsed": false
   },
   "outputs": [],
   "source": [
    "#predicted"
   ]
  },
  {
   "cell_type": "code",
   "execution_count": 41,
   "metadata": {
    "collapsed": false
   },
   "outputs": [],
   "source": [
    "#fpr, tpr, _ = roc_curve(y_test, predicted[:, 1])"
   ]
  },
  {
   "cell_type": "code",
   "execution_count": 42,
   "metadata": {
    "collapsed": false
   },
   "outputs": [
    {
     "data": {
      "text/plain": [
       "'plt.figure()\\nlw = 2\\nplt.plot(fpr, tpr, color=\\'orange\\',\\n         lw=lw, label=\\'ROC curve (area = %0.5f)\\' % auc(fpr,tpr))\\nplt.plot([0, 1], [0, 1], color=\\'navy\\', lw=lw, linestyle=\\'--\\')\\nplt.xlim([0.0, 0.2])\\nplt.ylim([0.0, 1.05])\\nplt.xlabel(\\'False Positive Rate\\')\\nplt.ylabel(\\'True Positive Rate\\')\\nplt.legend(loc=\"lower right\")\\nplt.grid()\\nplt.show()'"
      ]
     },
     "execution_count": 42,
     "metadata": {},
     "output_type": "execute_result"
    }
   ],
   "source": [
    "\"\"\"plt.figure()\n",
    "lw = 2\n",
    "plt.plot(fpr, tpr, color='orange',\n",
    "         lw=lw, label='ROC curve (area = %0.5f)' % auc(fpr,tpr))\n",
    "plt.plot([0, 1], [0, 1], color='navy', lw=lw, linestyle='--')\n",
    "plt.xlim([0.0, 0.2])\n",
    "plt.ylim([0.0, 1.05])\n",
    "plt.xlabel('False Positive Rate')\n",
    "plt.ylabel('True Positive Rate')\n",
    "plt.legend(loc=\"lower right\")\n",
    "plt.grid()\n",
    "plt.show()\"\"\""
   ]
  },
  {
   "cell_type": "code",
   "execution_count": 43,
   "metadata": {
    "collapsed": false
   },
   "outputs": [],
   "source": [
    "gbclassifier = GradientBoostingClassifier(max_depth=6)\n",
    "gbclassifier.fit(x_train, y_train)\n",
    "\n",
    "predicted = gbclassifier.predict_proba(x_test)"
   ]
  },
  {
   "cell_type": "code",
   "execution_count": 44,
   "metadata": {
    "collapsed": true
   },
   "outputs": [],
   "source": [
    "fpr, tpr, _ = roc_curve(y_test, predicted[:, 1])"
   ]
  },
  {
   "cell_type": "code",
   "execution_count": 45,
   "metadata": {
    "collapsed": false
   },
   "outputs": [
    {
     "data": {
      "image/png": "[encoded data removed]",
      "text/plain": [
       "<matplotlib.figure.Figure at 0x1400ad47d30>"
      ]
     },
     "metadata": {},
     "output_type": "display_data"
    }
   ],
   "source": [
    "plt.figure()\n",
    "lw = 2\n",
    "plt.plot(fpr, tpr, color='orange',\n",
    "         lw=lw, label='ROC curve (area = %0.5f)' % auc(fpr,tpr))\n",
    "plt.plot([0, 1], [0, 1], color='navy', lw=lw, linestyle='--')\n",
    "plt.xlim([0.0, 0.2])\n",
    "plt.ylim([0.0, 1.05])\n",
    "plt.xlabel('False Positive Rate')\n",
    "plt.ylabel('True Positive Rate')\n",
    "plt.legend(loc=\"lower right\")\n",
    "plt.grid()\n",
    "plt.show()"
   ]
  },
  {
   "cell_type": "code",
   "execution_count": 46,
   "metadata": {
    "collapsed": false
   },
   "outputs": [
    {
     "data": {
      "text/plain": [
       "['Mass',\n",
       " 'Vertex_chi2',\n",
       " 'IP_chi2_sum',\n",
       " 'Pt',\n",
       " 'Flight_distance',\n",
       " 'Track_number_PV',\n",
       " 'Pt_min',\n",
       " 'Pseudorapidity',\n",
       " 'Tracks_number',\n",
       " 'Corrected_mass',\n",
       " 'Tracks_number_passed',\n",
       " 'IP_chi2',\n",
       " 'Pt_sum']"
      ]
     },
     "execution_count": 46,
     "metadata": {},
     "output_type": "execute_result"
    }
   ],
   "source": [
    "features = list(set(data.columns))\n",
    "features"
   ]
  },
  {
   "cell_type": "code",
   "execution_count": 47,
   "metadata": {
    "collapsed": true
   },
   "outputs": [],
   "source": [
    "data1 = pd.read_csv(\"training.csv\", sep=\",\")"
   ]
  },
  {
   "cell_type": "markdown",
   "metadata": {},
   "source": [
    "Содержательная часть"
   ]
  },
  {
   "cell_type": "code",
   "execution_count": 48,
   "metadata": {
    "collapsed": false
   },
   "outputs": [],
   "source": [
    "training_data, validation_data = train_test_split_group(data1.EventID, data1, random_state=11, train_size=0.66)"
   ]
  },
  {
   "cell_type": "code",
   "execution_count": 49,
   "metadata": {
    "collapsed": true
   },
   "outputs": [],
   "source": [
    "def compute_mean(event_ids, values):\n",
    "    number_of_sv_in_event = np.bincount(event_ids)\n",
    "    return np.bincount(event_ids, weights=values) / number_of_sv_in_event"
   ]
  },
  {
   "cell_type": "code",
   "execution_count": 50,
   "metadata": {
    "collapsed": true
   },
   "outputs": [],
   "source": [
    "def compute_max(event_ids, values):\n",
    "    max_values = numpy.zeros(numpy.amax(event_ids)+1)\n",
    "    for i in range(len(event_ids)):\n",
    "        if values[i] > max_values[event_ids[i]]:\n",
    "            max_values[event_ids[i]] = values[i]\n",
    "    max_values[max_values == 0] = numpy.nan\n",
    "    return max_values"
   ]
  },
  {
   "cell_type": "markdown",
   "metadata": {},
   "source": [
    "Градиентный бустинг со стандартными параметрами, сравнение max и mean для предсказаний"
   ]
  },
  {
   "cell_type": "code",
   "execution_count": 51,
   "metadata": {
    "collapsed": false
   },
   "outputs": [
    {
     "data": {
      "text/plain": [
       "GradientBoostingClassifier(criterion='friedman_mse', init=None,\n",
       "              learning_rate=0.1, loss='deviance', max_depth=6,\n",
       "              max_features=None, max_leaf_nodes=None,\n",
       "              min_impurity_split=1e-07, min_samples_leaf=1,\n",
       "              min_samples_split=2, min_weight_fraction_leaf=0.0,\n",
       "              n_estimators=100, presort='auto', random_state=None,\n",
       "              subsample=1.0, verbose=0, warm_start=False)"
      ]
     },
     "execution_count": 51,
     "metadata": {},
     "output_type": "execute_result"
    }
   ],
   "source": [
    "gbclassifier = GradientBoostingClassifier(max_depth=6)\n",
    "gbclassifier.fit(training_data[features], training_data.Label)\n",
    "\n",
    "#predicted = gbclassifier.predict_proba(x_test)"
   ]
  },
  {
   "cell_type": "code",
   "execution_count": 52,
   "metadata": {
    "collapsed": false
   },
   "outputs": [
    {
     "name": "stderr",
     "output_type": "stream",
     "text": [
      "C:\\Users\\igosh\\Anaconda3\\lib\\site-packages\\ipykernel\\__main__.py:3: RuntimeWarning: invalid value encountered in true_divide\n",
      "  app.launch_new_instance()\n"
     ]
    }
   ],
   "source": [
    "# predict each SV\n",
    "proba = gbclassifier.predict_proba(validation_data[features])\n",
    "events_ids = np.unique(validation_data.EventID)\n",
    "\n",
    "# compute number of SVs in each event\n",
    "number_of_sv_in_event = np.bincount(validation_data.EventID)\n",
    "\n",
    "# compute predictions for events (take the mean value of predictions for SVs forming an event)\n",
    "events_proba = compute_mean(validation_data.EventID, proba[:, 1])[events_ids]\n",
    "\n",
    "# compute weights for events \n",
    "events_weights = compute_mean(validation_data.EventID, validation_data.Weight)[events_ids]\n",
    "\n",
    "# compute labels for events \n",
    "events_labels = compute_mean(validation_data.EventID, validation_data.Label)[events_ids]"
   ]
  },
  {
   "cell_type": "code",
   "execution_count": 53,
   "metadata": {
    "collapsed": false
   },
   "outputs": [
    {
     "data": {
      "text/plain": [
       "0.94699496004218886"
      ]
     },
     "execution_count": 53,
     "metadata": {},
     "output_type": "execute_result"
    }
   ],
   "source": [
    "roc_auc_score(events_labels, events_proba, sample_weight=events_weights)"
   ]
  },
  {
   "cell_type": "code",
   "execution_count": 54,
   "metadata": {
    "collapsed": true
   },
   "outputs": [],
   "source": [
    "fpr, tpr, _ = roc_curve(events_labels, events_proba, sample_weight=events_weights)"
   ]
  },
  {
   "cell_type": "code",
   "execution_count": 55,
   "metadata": {
    "collapsed": false
   },
   "outputs": [
    {
     "data": {
      "image/png": "[encoded data removed]",
      "text/plain": [
       "<matplotlib.figure.Figure at 0x14012586c18>"
      ]
     },
     "metadata": {},
     "output_type": "display_data"
    }
   ],
   "source": [
    "plt.figure()\n",
    "lw = 2\n",
    "plt.plot(fpr, tpr, color='orange',\n",
    "         lw=lw, label='ROC curve (area = %0.5f)' % roc_auc_score(events_labels, events_proba, sample_weight=events_weights))\n",
    "plt.plot([0, 1], [0, 1], color='navy', lw=lw, linestyle='--')\n",
    "plt.xlim([0.0, 0.2])\n",
    "plt.ylim([0.0, 1.05])\n",
    "plt.xlabel('False Positive Rate')\n",
    "plt.ylabel('True Positive Rate')\n",
    "plt.legend(loc=\"lower right\")\n",
    "plt.grid()\n",
    "plt.show()"
   ]
  },
  {
   "cell_type": "code",
   "execution_count": 56,
   "metadata": {
    "collapsed": false
   },
   "outputs": [
    {
     "name": "stderr",
     "output_type": "stream",
     "text": [
      "C:\\Users\\igosh\\Anaconda3\\lib\\site-packages\\ipykernel\\__main__.py:3: RuntimeWarning: invalid value encountered in true_divide\n",
      "  app.launch_new_instance()\n"
     ]
    }
   ],
   "source": [
    "# predict each SV\n",
    "proba = gbclassifier.predict_proba(validation_data[features])\n",
    "events_ids = np.unique(validation_data.EventID)\n",
    "\n",
    "# compute number of SVs in each event\n",
    "number_of_sv_in_event = np.bincount(validation_data.EventID)\n",
    "\n",
    "# compute predictions for events (take the mean value of predictions for SVs forming an event)\n",
    "events_proba = compute_max(numpy.array(validation_data.EventID), proba[:, 1])[events_ids]\n",
    "\n",
    "# compute weights for events \n",
    "events_weights = compute_mean(validation_data.EventID, validation_data.Weight)[events_ids]\n",
    "\n",
    "# compute labels for events \n",
    "events_labels = compute_mean(validation_data.EventID, validation_data.Label)[events_ids]"
   ]
  },
  {
   "cell_type": "code",
   "execution_count": 57,
   "metadata": {
    "collapsed": false
   },
   "outputs": [
    {
     "data": {
      "text/plain": [
       "0.96109347552359647"
      ]
     },
     "execution_count": 57,
     "metadata": {},
     "output_type": "execute_result"
    }
   ],
   "source": [
    "roc_auc_score(events_labels, events_proba, sample_weight=events_weights)"
   ]
  },
  {
   "cell_type": "code",
   "execution_count": 58,
   "metadata": {
    "collapsed": false
   },
   "outputs": [],
   "source": [
    "fpr, tpr, _ = roc_curve(events_labels, events_proba, sample_weight=events_weights)"
   ]
  },
  {
   "cell_type": "code",
   "execution_count": 59,
   "metadata": {
    "collapsed": false
   },
   "outputs": [
    {
     "data": {
      "image/png": "[encoded data removed]",
      "text/plain": [
       "<matplotlib.figure.Figure at 0x140125b8470>"
      ]
     },
     "metadata": {},
     "output_type": "display_data"
    }
   ],
   "source": [
    "plt.figure()\n",
    "lw = 2\n",
    "plt.plot(fpr, tpr, color='orange',\n",
    "         lw=lw, label='ROC curve (area = %0.5f)' % roc_auc_score(events_labels, events_proba, sample_weight=events_weights))\n",
    "plt.plot([0, 1], [0, 1], color='navy', lw=lw, linestyle='--')\n",
    "plt.xlim([0.0, 0.2])\n",
    "plt.ylim([0.0, 1.05])\n",
    "plt.xlabel('False Positive Rate')\n",
    "plt.ylabel('True Positive Rate')\n",
    "plt.legend(loc=\"lower right\")\n",
    "plt.grid()\n",
    "plt.show()"
   ]
  },
  {
   "cell_type": "markdown",
   "metadata": {},
   "source": [
    "Тюнинг параметров в различных классификаторах."
   ]
  },
  {
   "cell_type": "code",
   "execution_count": 62,
   "metadata": {
    "collapsed": false
   },
   "outputs": [
    {
     "name": "stderr",
     "output_type": "stream",
     "text": [
      "C:\\Users\\igosh\\Anaconda3\\lib\\site-packages\\sklearn\\grid_search.py:43: DeprecationWarning: This module was deprecated in version 0.18 in favor of the model_selection module into which all the refactored classes and functions are moved. This module will be removed in 0.20.\n",
      "  DeprecationWarning)\n"
     ]
    }
   ],
   "source": [
    "from sklearn.grid_search import GridSearchCV"
   ]
  },
  {
   "cell_type": "code",
   "execution_count": 41,
   "metadata": {
    "collapsed": false
   },
   "outputs": [
    {
     "data": {
      "text/plain": [
       "{'learning_rate': 0.05, 'max_depth': 6}"
      ]
     },
     "execution_count": 41,
     "metadata": {},
     "output_type": "execute_result"
    }
   ],
   "source": [
    "param_grid = {'learning_rate': [0.1, 0.05, 0.02, 0.01],\n",
    "              'max_depth': [4, 6],\n",
    "              #'min_samples_leaf': [3, 5, 9, 17],\n",
    "              #'max_features': [1.0, 0.3, 0.1]\n",
    "              }\n",
    "\n",
    "gbclassifier = GradientBoostingClassifier(n_estimators=100)\n",
    "\n",
    "\n",
    "gs_cv = GridSearchCV(gbclassifier, param_grid, n_jobs=4).fit(training_data[features], training_data.Label)\n",
    "\n",
    "\n",
    "gs_cv.best_params_"
   ]
  },
  {
   "cell_type": "code",
   "execution_count": 60,
   "metadata": {
    "collapsed": true
   },
   "outputs": [],
   "source": [
    "from sklearn.ensemble import AdaBoostClassifier"
   ]
  },
  {
   "cell_type": "code",
   "execution_count": 63,
   "metadata": {
    "collapsed": false
   },
   "outputs": [
    {
     "data": {
      "text/plain": [
       "{'algorithm': 'SAMME.R', 'learning_rate': 0.1, 'n_estimators': 100}"
      ]
     },
     "execution_count": 63,
     "metadata": {},
     "output_type": "execute_result"
    }
   ],
   "source": [
    "param_grid = {'learning_rate': [0.1, 0.05, 0.02, 0.01],\n",
    "              'algorithm': ['SAMME', 'SAMME.R'],\n",
    "              'n_estimators': [50, 100]\n",
    "              }\n",
    "\n",
    "abclassifier = AdaBoostClassifier()\n",
    "\n",
    "\n",
    "gs_cv = GridSearchCV(abclassifier, param_grid, n_jobs=4).fit(training_data[features], training_data.Label)\n",
    "\n",
    "\n",
    "gs_cv.best_params_"
   ]
  },
  {
   "cell_type": "code",
   "execution_count": 64,
   "metadata": {
    "collapsed": false
   },
   "outputs": [
    {
     "data": {
      "text/plain": [
       "GradientBoostingClassifier(criterion='friedman_mse', init=None,\n",
       "              learning_rate=0.05, loss='deviance', max_depth=6,\n",
       "              max_features=None, max_leaf_nodes=None,\n",
       "              min_impurity_split=1e-07, min_samples_leaf=1,\n",
       "              min_samples_split=2, min_weight_fraction_leaf=0.0,\n",
       "              n_estimators=100, presort='auto', random_state=None,\n",
       "              subsample=1.0, verbose=0, warm_start=False)"
      ]
     },
     "execution_count": 64,
     "metadata": {},
     "output_type": "execute_result"
    }
   ],
   "source": [
    "gbclassifier = GradientBoostingClassifier(n_estimators=100, learning_rate=0.05, max_depth=6)\n",
    "gbclassifier.fit(training_data[features], training_data.Label)"
   ]
  },
  {
   "cell_type": "code",
   "execution_count": 65,
   "metadata": {
    "collapsed": false
   },
   "outputs": [
    {
     "data": {
      "text/plain": [
       "AdaBoostClassifier(algorithm='SAMME.R', base_estimator=None,\n",
       "          learning_rate=0.1, n_estimators=100, random_state=None)"
      ]
     },
     "execution_count": 65,
     "metadata": {},
     "output_type": "execute_result"
    }
   ],
   "source": [
    "abclassifier = AdaBoostClassifier(n_estimators=100, algorithm=\"SAMME.R\", learning_rate=0.1)\n",
    "abclassifier.fit(training_data[features], training_data.Label)"
   ]
  },
  {
   "cell_type": "code",
   "execution_count": 68,
   "metadata": {
    "collapsed": false
   },
   "outputs": [
    {
     "name": "stderr",
     "output_type": "stream",
     "text": [
      "C:\\Users\\igosh\\Anaconda3\\lib\\site-packages\\ipykernel\\__main__.py:3: RuntimeWarning: invalid value encountered in true_divide\n",
      "  app.launch_new_instance()\n"
     ]
    },
    {
     "data": {
      "text/plain": [
       "0.96015632511603866"
      ]
     },
     "execution_count": 68,
     "metadata": {},
     "output_type": "execute_result"
    }
   ],
   "source": [
    "# predict each SV\n",
    "proba = gbclassifier.predict_proba(validation_data[features])\n",
    "events_ids = np.unique(validation_data.EventID)\n",
    "\n",
    "# compute number of SVs in each event\n",
    "number_of_sv_in_event = np.bincount(validation_data.EventID)\n",
    "\n",
    "# compute predictions for events (take the mean value of predictions for SVs forming an event)\n",
    "events_proba = compute_max(numpy.array(validation_data.EventID), proba[:, 1])[events_ids]\n",
    "\n",
    "# compute weights for events \n",
    "events_weights = compute_mean(validation_data.EventID, validation_data.Weight)[events_ids]\n",
    "\n",
    "# compute labels for events \n",
    "events_labels = compute_mean(validation_data.EventID, validation_data.Label)[events_ids]\n",
    "\n",
    "roc_auc_score(events_labels, events_proba, sample_weight=events_weights)"
   ]
  },
  {
   "cell_type": "code",
   "execution_count": 69,
   "metadata": {
    "collapsed": false
   },
   "outputs": [
    {
     "name": "stderr",
     "output_type": "stream",
     "text": [
      "C:\\Users\\igosh\\Anaconda3\\lib\\site-packages\\ipykernel\\__main__.py:3: RuntimeWarning: invalid value encountered in true_divide\n",
      "  app.launch_new_instance()\n"
     ]
    },
    {
     "data": {
      "text/plain": [
       "0.94921058452023188"
      ]
     },
     "execution_count": 69,
     "metadata": {},
     "output_type": "execute_result"
    }
   ],
   "source": [
    "# predict each SV\n",
    "proba = abclassifier.predict_proba(validation_data[features])\n",
    "events_ids = np.unique(validation_data.EventID)\n",
    "\n",
    "# compute number of SVs in each event\n",
    "number_of_sv_in_event = np.bincount(validation_data.EventID)\n",
    "\n",
    "# compute predictions for events (take the mean value of predictions for SVs forming an event)\n",
    "events_proba = compute_max(numpy.array(validation_data.EventID), proba[:, 1])[events_ids]\n",
    "\n",
    "# compute weights for events \n",
    "events_weights = compute_mean(validation_data.EventID, validation_data.Weight)[events_ids]\n",
    "\n",
    "# compute labels for events \n",
    "events_labels = compute_mean(validation_data.EventID, validation_data.Label)[events_ids]\n",
    "\n",
    "roc_auc_score(events_labels, events_proba, sample_weight=events_weights)"
   ]
  }
 ],
 "metadata": {
  "anaconda-cloud": {},
  "kernelspec": {
   "display_name": "Python [default]",
   "language": "python",
   "name": "python3"
  },
  "language_info": {
   "codemirror_mode": {
    "name": "ipython",
    "version": 3
   },
   "file_extension": ".py",
   "mimetype": "text/x-python",
   "name": "python",
   "nbconvert_exporter": "python",
   "pygments_lexer": "ipython3",
   "version": "3.5.2"
  }
 },
 "nbformat": 4,
 "nbformat_minor": 1
}
