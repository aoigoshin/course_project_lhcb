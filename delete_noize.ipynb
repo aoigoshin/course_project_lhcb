{
 "cells": [
  {
   "cell_type": "code",
   "execution_count": 1,
   "metadata": {
    "collapsed": false
   },
   "outputs": [
    {
     "name": "stderr",
     "output_type": "stream",
     "text": [
      "C:\\Users\\igosh\\Anaconda3\\lib\\site-packages\\sklearn\\cross_validation.py:44: DeprecationWarning: This module was deprecated in version 0.18 in favor of the model_selection module into which all the refactored classes and functions are moved. Also note that the interface of the new CV iterators are different from that of this module. This module will be removed in 0.20.\n",
      "  \"This module will be removed in 0.20.\", DeprecationWarning)\n",
      "C:\\Users\\igosh\\Anaconda3\\lib\\site-packages\\sklearn\\grid_search.py:43: DeprecationWarning: This module was deprecated in version 0.18 in favor of the model_selection module into which all the refactored classes and functions are moved. This module will be removed in 0.20.\n",
      "  DeprecationWarning)\n"
     ]
    }
   ],
   "source": [
    "from matplotlib import pyplot as plt\n",
    "%matplotlib inline\n",
    "\n",
    "import numpy\n",
    "import pandas\n",
    "import pandas as pd\n",
    "import numpy as np\n",
    "from sklearn.tree import DecisionTreeClassifier\n",
    "from sklearn.ensemble import BaggingClassifier, RandomForestClassifier, GradientBoostingClassifier\n",
    "from sklearn.cross_validation import cross_val_score\n",
    "from sklearn.model_selection import train_test_split, GroupShuffleSplit\n",
    "from sklearn.metrics import accuracy_score, roc_auc_score, roc_curve, auc\n",
    "from sklearn.linear_model import LogisticRegression, RidgeClassifier, Ridge\n",
    "from sklearn.ensemble import AdaBoostClassifier\n",
    "from sklearn.grid_search import GridSearchCV\n",
    "import xgboost as xgb"
   ]
  },
  {
   "cell_type": "code",
   "execution_count": 2,
   "metadata": {
    "collapsed": true
   },
   "outputs": [],
   "source": [
    "def train_test_split_group(group_column, *arrays, **kw_args):\n",
    "   \n",
    "    from sklearn import cross_validation\n",
    "    allow_none = kw_args.pop('allow_none', None)\n",
    "\n",
    "    assert len(arrays) > 0, \"at least one array should be passed\"\n",
    "    length = len(arrays[0])\n",
    "    for array in arrays:\n",
    "        assert len(array) == length, \"different size\"\n",
    "\n",
    "    initial_data = numpy.array(group_column)\n",
    "    assert len(initial_data) == length, \"group column must have the same length\"\n",
    "    group_ids = numpy.unique(initial_data)\n",
    "\n",
    "    train_indices, test_indices = cross_validation.train_test_split(group_ids, **kw_args)\n",
    "    train_indices = numpy.in1d(initial_data, train_indices)\n",
    "    test_indices = numpy.in1d(initial_data, test_indices)\n",
    "\n",
    "    result = []\n",
    "    for array in arrays:\n",
    "        if isinstance(array, pandas.DataFrame):\n",
    "            result.append(array.iloc[train_indices, :])\n",
    "            result.append(array.iloc[test_indices, :])\n",
    "        elif (array is None) and allow_none:\n",
    "            # specially for checking weights\n",
    "            result.append(None)\n",
    "            result.append(None)\n",
    "        else:\n",
    "            result.append(numpy.array(array)[train_indices])\n",
    "            result.append(numpy.array(array)[test_indices])\n",
    "    return result"
   ]
  },
  {
   "cell_type": "code",
   "execution_count": 274,
   "metadata": {
    "collapsed": true
   },
   "outputs": [],
   "source": [
    "def compute_mean(event_ids, values):\n",
    "    number_of_sv_in_event = np.bincount(event_ids)\n",
    "    return np.bincount(event_ids, weights=values) / number_of_sv_in_event"
   ]
  },
  {
   "cell_type": "code",
   "execution_count": 88,
   "metadata": {
    "collapsed": true
   },
   "outputs": [],
   "source": [
    "def compute_max(event_ids, values):\n",
    "    max_values = numpy.zeros(numpy.amax(event_ids) + 1)\n",
    "    for i in range(len(event_ids)):\n",
    "        if values[i] > max_values[event_ids[i]]:\n",
    "            max_values[event_ids[i]] = values[i]\n",
    "    max_values[max_values == 0] = numpy.nan\n",
    "    return max_values"
   ]
  },
  {
   "cell_type": "code",
   "execution_count": 3,
   "metadata": {
    "collapsed": true
   },
   "outputs": [],
   "source": [
    "data = pd.read_csv(\"training.csv\", sep=\",\")"
   ]
  },
  {
   "cell_type": "code",
   "execution_count": 12,
   "metadata": {
    "collapsed": false
   },
   "outputs": [
    {
     "data": {
      "text/plain": [
       "['Pt_min',\n",
       " 'Pt',\n",
       " 'IP_chi2_sum',\n",
       " 'Corrected_mass',\n",
       " 'Pt_sum',\n",
       " 'Pseudorapidity',\n",
       " 'Vertex_chi2',\n",
       " 'Track_number_PV',\n",
       " 'Flight_distance',\n",
       " 'IP_chi2',\n",
       " 'Tracks_number_passed',\n",
       " 'Mass',\n",
       " 'Tracks_number']"
      ]
     },
     "execution_count": 12,
     "metadata": {},
     "output_type": "execute_result"
    }
   ],
   "source": [
    "features = list(set(data.columns) - {'EventID', 'Label', 'Weight'})\n",
    "features"
   ]
  },
  {
   "cell_type": "code",
   "execution_count": 276,
   "metadata": {
    "collapsed": false
   },
   "outputs": [
    {
     "data": {
      "text/html": [
       "<div>\n",
       "<table border=\"1\" class=\"dataframe\">\n",
       "  <thead>\n",
       "    <tr style=\"text-align: right;\">\n",
       "      <th></th>\n",
       "      <th>EventID</th>\n",
       "      <th>Label</th>\n",
       "      <th>Mass</th>\n",
       "      <th>Corrected_mass</th>\n",
       "      <th>Pt</th>\n",
       "      <th>Pt_sum</th>\n",
       "      <th>Pt_min</th>\n",
       "      <th>IP_chi2</th>\n",
       "      <th>IP_chi2_sum</th>\n",
       "      <th>Flight_distance</th>\n",
       "      <th>Pseudorapidity</th>\n",
       "      <th>Track_number_PV</th>\n",
       "      <th>Tracks_number</th>\n",
       "      <th>Tracks_number_passed</th>\n",
       "      <th>Vertex_chi2</th>\n",
       "      <th>Weight</th>\n",
       "    </tr>\n",
       "  </thead>\n",
       "  <tbody>\n",
       "    <tr>\n",
       "      <th>0</th>\n",
       "      <td>0</td>\n",
       "      <td>1</td>\n",
       "      <td>3440.680014</td>\n",
       "      <td>5202.580014</td>\n",
       "      <td>15583.900014</td>\n",
       "      <td>15793.800014</td>\n",
       "      <td>6499.170014</td>\n",
       "      <td>23.863914</td>\n",
       "      <td>281.409014</td>\n",
       "      <td>727.555014</td>\n",
       "      <td>2.581344</td>\n",
       "      <td>0</td>\n",
       "      <td>2</td>\n",
       "      <td>2</td>\n",
       "      <td>1.119164</td>\n",
       "      <td>2.834853</td>\n",
       "    </tr>\n",
       "    <tr>\n",
       "      <th>1</th>\n",
       "      <td>0</td>\n",
       "      <td>1</td>\n",
       "      <td>1319.829991</td>\n",
       "      <td>2465.479991</td>\n",
       "      <td>3477.259991</td>\n",
       "      <td>3593.409991</td>\n",
       "      <td>404.050991</td>\n",
       "      <td>34.731791</td>\n",
       "      <td>135.844991</td>\n",
       "      <td>165.981991</td>\n",
       "      <td>2.581401</td>\n",
       "      <td>0</td>\n",
       "      <td>2</td>\n",
       "      <td>1</td>\n",
       "      <td>0.004716</td>\n",
       "      <td>2.834853</td>\n",
       "    </tr>\n",
       "    <tr>\n",
       "      <th>2</th>\n",
       "      <td>0</td>\n",
       "      <td>1</td>\n",
       "      <td>2732.810016</td>\n",
       "      <td>5804.080016</td>\n",
       "      <td>9356.570016</td>\n",
       "      <td>9562.870016</td>\n",
       "      <td>406.027016</td>\n",
       "      <td>150.119016</td>\n",
       "      <td>348.274016</td>\n",
       "      <td>414.395016</td>\n",
       "      <td>2.579956</td>\n",
       "      <td>0</td>\n",
       "      <td>2</td>\n",
       "      <td>1</td>\n",
       "      <td>0.016452</td>\n",
       "      <td>2.834853</td>\n",
       "    </tr>\n",
       "    <tr>\n",
       "      <th>3</th>\n",
       "      <td>0</td>\n",
       "      <td>1</td>\n",
       "      <td>1674.579998</td>\n",
       "      <td>4423.859998</td>\n",
       "      <td>6889.459998</td>\n",
       "      <td>6981.049998</td>\n",
       "      <td>404.992998</td>\n",
       "      <td>84.545298</td>\n",
       "      <td>167.266998</td>\n",
       "      <td>167.871998</td>\n",
       "      <td>2.585178</td>\n",
       "      <td>0</td>\n",
       "      <td>2</td>\n",
       "      <td>1</td>\n",
       "      <td>0.085944</td>\n",
       "      <td>2.834853</td>\n",
       "    </tr>\n",
       "    <tr>\n",
       "      <th>4</th>\n",
       "      <td>0</td>\n",
       "      <td>1</td>\n",
       "      <td>1844.839993</td>\n",
       "      <td>5744.339993</td>\n",
       "      <td>12385.899993</td>\n",
       "      <td>12299.399993</td>\n",
       "      <td>3167.219993</td>\n",
       "      <td>110.864993</td>\n",
       "      <td>251.260993</td>\n",
       "      <td>350.210993</td>\n",
       "      <td>2.590683</td>\n",
       "      <td>0</td>\n",
       "      <td>2</td>\n",
       "      <td>2</td>\n",
       "      <td>1.167173</td>\n",
       "      <td>2.834853</td>\n",
       "    </tr>\n",
       "  </tbody>\n",
       "</table>\n",
       "</div>"
      ],
      "text/plain": [
       "   EventID  Label         Mass  Corrected_mass            Pt        Pt_sum  \\\n",
       "0        0      1  3440.680014     5202.580014  15583.900014  15793.800014   \n",
       "1        0      1  1319.829991     2465.479991   3477.259991   3593.409991   \n",
       "2        0      1  2732.810016     5804.080016   9356.570016   9562.870016   \n",
       "3        0      1  1674.579998     4423.859998   6889.459998   6981.049998   \n",
       "4        0      1  1844.839993     5744.339993  12385.899993  12299.399993   \n",
       "\n",
       "        Pt_min     IP_chi2  IP_chi2_sum  Flight_distance  Pseudorapidity  \\\n",
       "0  6499.170014   23.863914   281.409014       727.555014        2.581344   \n",
       "1   404.050991   34.731791   135.844991       165.981991        2.581401   \n",
       "2   406.027016  150.119016   348.274016       414.395016        2.579956   \n",
       "3   404.992998   84.545298   167.266998       167.871998        2.585178   \n",
       "4  3167.219993  110.864993   251.260993       350.210993        2.590683   \n",
       "\n",
       "   Track_number_PV  Tracks_number  Tracks_number_passed  Vertex_chi2    Weight  \n",
       "0                0              2                     2     1.119164  2.834853  \n",
       "1                0              2                     1     0.004716  2.834853  \n",
       "2                0              2                     1     0.016452  2.834853  \n",
       "3                0              2                     1     0.085944  2.834853  \n",
       "4                0              2                     2     1.167173  2.834853  "
      ]
     },
     "execution_count": 276,
     "metadata": {},
     "output_type": "execute_result"
    }
   ],
   "source": [
    "data.head()"
   ]
  },
  {
   "cell_type": "code",
   "execution_count": 13,
   "metadata": {
    "collapsed": true
   },
   "outputs": [],
   "source": [
    "data1 = data[data[\"Label\"] == 1]"
   ]
  },
  {
   "cell_type": "code",
   "execution_count": 277,
   "metadata": {
    "collapsed": false
   },
   "outputs": [
    {
     "data": {
      "text/html": [
       "<div>\n",
       "<table border=\"1\" class=\"dataframe\">\n",
       "  <thead>\n",
       "    <tr style=\"text-align: right;\">\n",
       "      <th></th>\n",
       "      <th>EventID</th>\n",
       "      <th>Label</th>\n",
       "      <th>Mass</th>\n",
       "      <th>Corrected_mass</th>\n",
       "      <th>Pt</th>\n",
       "      <th>Pt_sum</th>\n",
       "      <th>Pt_min</th>\n",
       "      <th>IP_chi2</th>\n",
       "      <th>IP_chi2_sum</th>\n",
       "      <th>Flight_distance</th>\n",
       "      <th>Pseudorapidity</th>\n",
       "      <th>Track_number_PV</th>\n",
       "      <th>Tracks_number</th>\n",
       "      <th>Tracks_number_passed</th>\n",
       "      <th>Vertex_chi2</th>\n",
       "      <th>Weight</th>\n",
       "    </tr>\n",
       "  </thead>\n",
       "  <tbody>\n",
       "    <tr>\n",
       "      <th>0</th>\n",
       "      <td>0</td>\n",
       "      <td>1</td>\n",
       "      <td>3440.680014</td>\n",
       "      <td>5202.580014</td>\n",
       "      <td>15583.900014</td>\n",
       "      <td>15793.800014</td>\n",
       "      <td>6499.170014</td>\n",
       "      <td>23.863914</td>\n",
       "      <td>281.409014</td>\n",
       "      <td>727.555014</td>\n",
       "      <td>2.581344</td>\n",
       "      <td>0</td>\n",
       "      <td>2</td>\n",
       "      <td>2</td>\n",
       "      <td>1.119164</td>\n",
       "      <td>2.834853</td>\n",
       "    </tr>\n",
       "    <tr>\n",
       "      <th>1</th>\n",
       "      <td>0</td>\n",
       "      <td>1</td>\n",
       "      <td>1319.829991</td>\n",
       "      <td>2465.479991</td>\n",
       "      <td>3477.259991</td>\n",
       "      <td>3593.409991</td>\n",
       "      <td>404.050991</td>\n",
       "      <td>34.731791</td>\n",
       "      <td>135.844991</td>\n",
       "      <td>165.981991</td>\n",
       "      <td>2.581401</td>\n",
       "      <td>0</td>\n",
       "      <td>2</td>\n",
       "      <td>1</td>\n",
       "      <td>0.004716</td>\n",
       "      <td>2.834853</td>\n",
       "    </tr>\n",
       "    <tr>\n",
       "      <th>2</th>\n",
       "      <td>0</td>\n",
       "      <td>1</td>\n",
       "      <td>2732.810016</td>\n",
       "      <td>5804.080016</td>\n",
       "      <td>9356.570016</td>\n",
       "      <td>9562.870016</td>\n",
       "      <td>406.027016</td>\n",
       "      <td>150.119016</td>\n",
       "      <td>348.274016</td>\n",
       "      <td>414.395016</td>\n",
       "      <td>2.579956</td>\n",
       "      <td>0</td>\n",
       "      <td>2</td>\n",
       "      <td>1</td>\n",
       "      <td>0.016452</td>\n",
       "      <td>2.834853</td>\n",
       "    </tr>\n",
       "    <tr>\n",
       "      <th>3</th>\n",
       "      <td>0</td>\n",
       "      <td>1</td>\n",
       "      <td>1674.579998</td>\n",
       "      <td>4423.859998</td>\n",
       "      <td>6889.459998</td>\n",
       "      <td>6981.049998</td>\n",
       "      <td>404.992998</td>\n",
       "      <td>84.545298</td>\n",
       "      <td>167.266998</td>\n",
       "      <td>167.871998</td>\n",
       "      <td>2.585178</td>\n",
       "      <td>0</td>\n",
       "      <td>2</td>\n",
       "      <td>1</td>\n",
       "      <td>0.085944</td>\n",
       "      <td>2.834853</td>\n",
       "    </tr>\n",
       "    <tr>\n",
       "      <th>4</th>\n",
       "      <td>0</td>\n",
       "      <td>1</td>\n",
       "      <td>1844.839993</td>\n",
       "      <td>5744.339993</td>\n",
       "      <td>12385.899993</td>\n",
       "      <td>12299.399993</td>\n",
       "      <td>3167.219993</td>\n",
       "      <td>110.864993</td>\n",
       "      <td>251.260993</td>\n",
       "      <td>350.210993</td>\n",
       "      <td>2.590683</td>\n",
       "      <td>0</td>\n",
       "      <td>2</td>\n",
       "      <td>2</td>\n",
       "      <td>1.167173</td>\n",
       "      <td>2.834853</td>\n",
       "    </tr>\n",
       "  </tbody>\n",
       "</table>\n",
       "</div>"
      ],
      "text/plain": [
       "   EventID  Label         Mass  Corrected_mass            Pt        Pt_sum  \\\n",
       "0        0      1  3440.680014     5202.580014  15583.900014  15793.800014   \n",
       "1        0      1  1319.829991     2465.479991   3477.259991   3593.409991   \n",
       "2        0      1  2732.810016     5804.080016   9356.570016   9562.870016   \n",
       "3        0      1  1674.579998     4423.859998   6889.459998   6981.049998   \n",
       "4        0      1  1844.839993     5744.339993  12385.899993  12299.399993   \n",
       "\n",
       "        Pt_min     IP_chi2  IP_chi2_sum  Flight_distance  Pseudorapidity  \\\n",
       "0  6499.170014   23.863914   281.409014       727.555014        2.581344   \n",
       "1   404.050991   34.731791   135.844991       165.981991        2.581401   \n",
       "2   406.027016  150.119016   348.274016       414.395016        2.579956   \n",
       "3   404.992998   84.545298   167.266998       167.871998        2.585178   \n",
       "4  3167.219993  110.864993   251.260993       350.210993        2.590683   \n",
       "\n",
       "   Track_number_PV  Tracks_number  Tracks_number_passed  Vertex_chi2    Weight  \n",
       "0                0              2                     2     1.119164  2.834853  \n",
       "1                0              2                     1     0.004716  2.834853  \n",
       "2                0              2                     1     0.016452  2.834853  \n",
       "3                0              2                     1     0.085944  2.834853  \n",
       "4                0              2                     2     1.167173  2.834853  "
      ]
     },
     "execution_count": 277,
     "metadata": {},
     "output_type": "execute_result"
    }
   ],
   "source": [
    "data1.head()"
   ]
  },
  {
   "cell_type": "code",
   "execution_count": 27,
   "metadata": {
    "collapsed": true
   },
   "outputs": [],
   "source": [
    "training_data, validation_data = train_test_split_group(data.EventID, data, random_state=11, train_size=0.66)"
   ]
  },
  {
   "cell_type": "code",
   "execution_count": 293,
   "metadata": {
    "collapsed": true
   },
   "outputs": [],
   "source": [
    "tr_data1, tr_data2 = train_test_split_group(training_data.EventID, training_data, random_state=11, train_size=0.35)"
   ]
  },
  {
   "cell_type": "code",
   "execution_count": 294,
   "metadata": {
    "collapsed": false
   },
   "outputs": [
    {
     "data": {
      "text/plain": [
       "RandomForestClassifier(bootstrap=True, class_weight=None, criterion='gini',\n",
       "            max_depth=6, max_features='auto', max_leaf_nodes=None,\n",
       "            min_impurity_split=1e-07, min_samples_leaf=1,\n",
       "            min_samples_split=2, min_weight_fraction_leaf=0.0,\n",
       "            n_estimators=500, n_jobs=1, oob_score=False, random_state=None,\n",
       "            verbose=0, warm_start=False)"
      ]
     },
     "execution_count": 294,
     "metadata": {},
     "output_type": "execute_result"
    }
   ],
   "source": [
    "# rfclassifier = RandomForestClassifier(max_depth=6, n_estimators=500)\n",
    "# rfclassifier.fit(validation_data[features], validation_data.Label)\n",
    "\n",
    "rfclassifier = RandomForestClassifier(max_depth=6, n_estimators=500)\n",
    "rfclassifier.fit(tr_data1[features], tr_data1.Label)"
   ]
  },
  {
   "cell_type": "code",
   "execution_count": 295,
   "metadata": {
    "collapsed": true
   },
   "outputs": [],
   "source": [
    "proba1 = rfclassifier.predict_proba(data[features])"
   ]
  },
  {
   "cell_type": "code",
   "execution_count": 296,
   "metadata": {
    "collapsed": true
   },
   "outputs": [],
   "source": [
    "events_ids1, _ = np.unique(training_data[training_data[\"Label\"] == 1].EventID, return_index=True)"
   ]
  },
  {
   "cell_type": "code",
   "execution_count": 297,
   "metadata": {
    "collapsed": false
   },
   "outputs": [
    {
     "data": {
      "text/html": [
       "<div>\n",
       "<table border=\"1\" class=\"dataframe\">\n",
       "  <thead>\n",
       "    <tr style=\"text-align: right;\">\n",
       "      <th></th>\n",
       "      <th>EventID</th>\n",
       "      <th>Label</th>\n",
       "      <th>Mass</th>\n",
       "      <th>Corrected_mass</th>\n",
       "      <th>Pt</th>\n",
       "      <th>Pt_sum</th>\n",
       "      <th>Pt_min</th>\n",
       "      <th>IP_chi2</th>\n",
       "      <th>IP_chi2_sum</th>\n",
       "      <th>Flight_distance</th>\n",
       "      <th>Pseudorapidity</th>\n",
       "      <th>Track_number_PV</th>\n",
       "      <th>Tracks_number</th>\n",
       "      <th>Tracks_number_passed</th>\n",
       "      <th>Vertex_chi2</th>\n",
       "      <th>Weight</th>\n",
       "    </tr>\n",
       "  </thead>\n",
       "  <tbody>\n",
       "    <tr>\n",
       "      <th>0</th>\n",
       "      <td>0</td>\n",
       "      <td>1</td>\n",
       "      <td>3440.680014</td>\n",
       "      <td>5202.580014</td>\n",
       "      <td>15583.900014</td>\n",
       "      <td>15793.800014</td>\n",
       "      <td>6499.170014</td>\n",
       "      <td>23.863914</td>\n",
       "      <td>281.409014</td>\n",
       "      <td>727.555014</td>\n",
       "      <td>2.581344</td>\n",
       "      <td>0</td>\n",
       "      <td>2</td>\n",
       "      <td>2</td>\n",
       "      <td>1.119164</td>\n",
       "      <td>2.834853</td>\n",
       "    </tr>\n",
       "    <tr>\n",
       "      <th>1</th>\n",
       "      <td>0</td>\n",
       "      <td>1</td>\n",
       "      <td>1319.829991</td>\n",
       "      <td>2465.479991</td>\n",
       "      <td>3477.259991</td>\n",
       "      <td>3593.409991</td>\n",
       "      <td>404.050991</td>\n",
       "      <td>34.731791</td>\n",
       "      <td>135.844991</td>\n",
       "      <td>165.981991</td>\n",
       "      <td>2.581401</td>\n",
       "      <td>0</td>\n",
       "      <td>2</td>\n",
       "      <td>1</td>\n",
       "      <td>0.004716</td>\n",
       "      <td>2.834853</td>\n",
       "    </tr>\n",
       "    <tr>\n",
       "      <th>2</th>\n",
       "      <td>0</td>\n",
       "      <td>1</td>\n",
       "      <td>2732.810016</td>\n",
       "      <td>5804.080016</td>\n",
       "      <td>9356.570016</td>\n",
       "      <td>9562.870016</td>\n",
       "      <td>406.027016</td>\n",
       "      <td>150.119016</td>\n",
       "      <td>348.274016</td>\n",
       "      <td>414.395016</td>\n",
       "      <td>2.579956</td>\n",
       "      <td>0</td>\n",
       "      <td>2</td>\n",
       "      <td>1</td>\n",
       "      <td>0.016452</td>\n",
       "      <td>2.834853</td>\n",
       "    </tr>\n",
       "    <tr>\n",
       "      <th>3</th>\n",
       "      <td>0</td>\n",
       "      <td>1</td>\n",
       "      <td>1674.579998</td>\n",
       "      <td>4423.859998</td>\n",
       "      <td>6889.459998</td>\n",
       "      <td>6981.049998</td>\n",
       "      <td>404.992998</td>\n",
       "      <td>84.545298</td>\n",
       "      <td>167.266998</td>\n",
       "      <td>167.871998</td>\n",
       "      <td>2.585178</td>\n",
       "      <td>0</td>\n",
       "      <td>2</td>\n",
       "      <td>1</td>\n",
       "      <td>0.085944</td>\n",
       "      <td>2.834853</td>\n",
       "    </tr>\n",
       "    <tr>\n",
       "      <th>4</th>\n",
       "      <td>0</td>\n",
       "      <td>1</td>\n",
       "      <td>1844.839993</td>\n",
       "      <td>5744.339993</td>\n",
       "      <td>12385.899993</td>\n",
       "      <td>12299.399993</td>\n",
       "      <td>3167.219993</td>\n",
       "      <td>110.864993</td>\n",
       "      <td>251.260993</td>\n",
       "      <td>350.210993</td>\n",
       "      <td>2.590683</td>\n",
       "      <td>0</td>\n",
       "      <td>2</td>\n",
       "      <td>2</td>\n",
       "      <td>1.167173</td>\n",
       "      <td>2.834853</td>\n",
       "    </tr>\n",
       "  </tbody>\n",
       "</table>\n",
       "</div>"
      ],
      "text/plain": [
       "   EventID  Label         Mass  Corrected_mass            Pt        Pt_sum  \\\n",
       "0        0      1  3440.680014     5202.580014  15583.900014  15793.800014   \n",
       "1        0      1  1319.829991     2465.479991   3477.259991   3593.409991   \n",
       "2        0      1  2732.810016     5804.080016   9356.570016   9562.870016   \n",
       "3        0      1  1674.579998     4423.859998   6889.459998   6981.049998   \n",
       "4        0      1  1844.839993     5744.339993  12385.899993  12299.399993   \n",
       "\n",
       "        Pt_min     IP_chi2  IP_chi2_sum  Flight_distance  Pseudorapidity  \\\n",
       "0  6499.170014   23.863914   281.409014       727.555014        2.581344   \n",
       "1   404.050991   34.731791   135.844991       165.981991        2.581401   \n",
       "2   406.027016  150.119016   348.274016       414.395016        2.579956   \n",
       "3   404.992998   84.545298   167.266998       167.871998        2.585178   \n",
       "4  3167.219993  110.864993   251.260993       350.210993        2.590683   \n",
       "\n",
       "   Track_number_PV  Tracks_number  Tracks_number_passed  Vertex_chi2    Weight  \n",
       "0                0              2                     2     1.119164  2.834853  \n",
       "1                0              2                     1     0.004716  2.834853  \n",
       "2                0              2                     1     0.016452  2.834853  \n",
       "3                0              2                     1     0.085944  2.834853  \n",
       "4                0              2                     2     1.167173  2.834853  "
      ]
     },
     "execution_count": 297,
     "metadata": {},
     "output_type": "execute_result"
    }
   ],
   "source": [
    "training_data[training_data[\"Label\"] == 1].head()"
   ]
  },
  {
   "cell_type": "code",
   "execution_count": 298,
   "metadata": {
    "collapsed": false
   },
   "outputs": [
    {
     "data": {
      "text/plain": [
       "(498412, 2)"
      ]
     },
     "execution_count": 298,
     "metadata": {},
     "output_type": "execute_result"
    }
   ],
   "source": [
    "proba1.shape"
   ]
  },
  {
   "cell_type": "code",
   "execution_count": 299,
   "metadata": {
    "collapsed": false
   },
   "outputs": [],
   "source": [
    "# training_data[(training_data[\"Label\"] == 1) & (training_data[\"EventID\"] == events_ids1[0])]"
   ]
  },
  {
   "cell_type": "code",
   "execution_count": 300,
   "metadata": {
    "collapsed": false
   },
   "outputs": [],
   "source": [
    "proba_1 = pd.DataFrame(proba1[:, 1], columns=[\"Proba\"])"
   ]
  },
  {
   "cell_type": "code",
   "execution_count": 301,
   "metadata": {
    "collapsed": false
   },
   "outputs": [
    {
     "data": {
      "text/html": [
       "<div>\n",
       "<table border=\"1\" class=\"dataframe\">\n",
       "  <thead>\n",
       "    <tr style=\"text-align: right;\">\n",
       "      <th></th>\n",
       "      <th>Proba</th>\n",
       "    </tr>\n",
       "  </thead>\n",
       "  <tbody>\n",
       "    <tr>\n",
       "      <th>0</th>\n",
       "      <td>0.994780</td>\n",
       "    </tr>\n",
       "    <tr>\n",
       "      <th>1</th>\n",
       "      <td>0.985476</td>\n",
       "    </tr>\n",
       "    <tr>\n",
       "      <th>2</th>\n",
       "      <td>0.994090</td>\n",
       "    </tr>\n",
       "    <tr>\n",
       "      <th>3</th>\n",
       "      <td>0.993497</td>\n",
       "    </tr>\n",
       "    <tr>\n",
       "      <th>4</th>\n",
       "      <td>0.994589</td>\n",
       "    </tr>\n",
       "  </tbody>\n",
       "</table>\n",
       "</div>"
      ],
      "text/plain": [
       "      Proba\n",
       "0  0.994780\n",
       "1  0.985476\n",
       "2  0.994090\n",
       "3  0.993497\n",
       "4  0.994589"
      ]
     },
     "execution_count": 301,
     "metadata": {},
     "output_type": "execute_result"
    }
   ],
   "source": [
    "proba_1.head()"
   ]
  },
  {
   "cell_type": "code",
   "execution_count": 302,
   "metadata": {
    "collapsed": false
   },
   "outputs": [],
   "source": [
    "td = tr_data2[tr_data2[\"Label\"] == 1]"
   ]
  },
  {
   "cell_type": "code",
   "execution_count": 303,
   "metadata": {
    "collapsed": false
   },
   "outputs": [],
   "source": [
    "new_train_data = pd.concat([td,proba_1], ignore_index=False, axis=1)"
   ]
  },
  {
   "cell_type": "code",
   "execution_count": 304,
   "metadata": {
    "collapsed": false
   },
   "outputs": [
    {
     "data": {
      "text/html": [
       "<div>\n",
       "<table border=\"1\" class=\"dataframe\">\n",
       "  <thead>\n",
       "    <tr style=\"text-align: right;\">\n",
       "      <th></th>\n",
       "      <th>EventID</th>\n",
       "      <th>Label</th>\n",
       "      <th>Mass</th>\n",
       "      <th>Corrected_mass</th>\n",
       "      <th>Pt</th>\n",
       "      <th>Pt_sum</th>\n",
       "      <th>Pt_min</th>\n",
       "      <th>IP_chi2</th>\n",
       "      <th>IP_chi2_sum</th>\n",
       "      <th>Flight_distance</th>\n",
       "      <th>Pseudorapidity</th>\n",
       "      <th>Track_number_PV</th>\n",
       "      <th>Tracks_number</th>\n",
       "      <th>Tracks_number_passed</th>\n",
       "      <th>Vertex_chi2</th>\n",
       "      <th>Weight</th>\n",
       "      <th>Proba</th>\n",
       "    </tr>\n",
       "  </thead>\n",
       "  <tbody>\n",
       "    <tr>\n",
       "      <th>34</th>\n",
       "      <td>9.0</td>\n",
       "      <td>1.0</td>\n",
       "      <td>577.526019</td>\n",
       "      <td>3913.270019</td>\n",
       "      <td>2196.500019</td>\n",
       "      <td>2243.820019</td>\n",
       "      <td>506.633019</td>\n",
       "      <td>258.071019</td>\n",
       "      <td>377.000019</td>\n",
       "      <td>373.707019</td>\n",
       "      <td>3.247519</td>\n",
       "      <td>0.0</td>\n",
       "      <td>2.0</td>\n",
       "      <td>1.0</td>\n",
       "      <td>1.931259</td>\n",
       "      <td>4.483708</td>\n",
       "      <td>0.980200</td>\n",
       "    </tr>\n",
       "    <tr>\n",
       "      <th>35</th>\n",
       "      <td>9.0</td>\n",
       "      <td>1.0</td>\n",
       "      <td>3424.609985</td>\n",
       "      <td>3952.339985</td>\n",
       "      <td>3031.829985</td>\n",
       "      <td>4262.569985</td>\n",
       "      <td>506.363985</td>\n",
       "      <td>2.081485</td>\n",
       "      <td>1564.689985</td>\n",
       "      <td>3149.729985</td>\n",
       "      <td>3.266385</td>\n",
       "      <td>0.0</td>\n",
       "      <td>3.0</td>\n",
       "      <td>2.0</td>\n",
       "      <td>0.931321</td>\n",
       "      <td>4.483708</td>\n",
       "      <td>0.991321</td>\n",
       "    </tr>\n",
       "    <tr>\n",
       "      <th>36</th>\n",
       "      <td>9.0</td>\n",
       "      <td>1.0</td>\n",
       "      <td>954.296005</td>\n",
       "      <td>4844.570005</td>\n",
       "      <td>2776.750005</td>\n",
       "      <td>2834.040005</td>\n",
       "      <td>506.084005</td>\n",
       "      <td>184.007005</td>\n",
       "      <td>394.550005</td>\n",
       "      <td>390.359005</td>\n",
       "      <td>3.270565</td>\n",
       "      <td>0.0</td>\n",
       "      <td>3.0</td>\n",
       "      <td>1.0</td>\n",
       "      <td>0.743300</td>\n",
       "      <td>4.483708</td>\n",
       "      <td>0.982793</td>\n",
       "    </tr>\n",
       "    <tr>\n",
       "      <th>37</th>\n",
       "      <td>9.0</td>\n",
       "      <td>1.0</td>\n",
       "      <td>1476.550006</td>\n",
       "      <td>3931.870006</td>\n",
       "      <td>2784.390006</td>\n",
       "      <td>3053.450006</td>\n",
       "      <td>506.556006</td>\n",
       "      <td>169.357006</td>\n",
       "      <td>539.192006</td>\n",
       "      <td>880.848006</td>\n",
       "      <td>3.274646</td>\n",
       "      <td>0.0</td>\n",
       "      <td>3.0</td>\n",
       "      <td>1.0</td>\n",
       "      <td>1.267956</td>\n",
       "      <td>4.483708</td>\n",
       "      <td>0.983961</td>\n",
       "    </tr>\n",
       "    <tr>\n",
       "      <th>38</th>\n",
       "      <td>9.0</td>\n",
       "      <td>1.0</td>\n",
       "      <td>1337.250006</td>\n",
       "      <td>3320.140006</td>\n",
       "      <td>2260.600006</td>\n",
       "      <td>2516.150006</td>\n",
       "      <td>507.062006</td>\n",
       "      <td>291.849006</td>\n",
       "      <td>1210.380006</td>\n",
       "      <td>1333.300006</td>\n",
       "      <td>3.216956</td>\n",
       "      <td>0.0</td>\n",
       "      <td>2.0</td>\n",
       "      <td>1.0</td>\n",
       "      <td>1.504636</td>\n",
       "      <td>4.483708</td>\n",
       "      <td>0.980424</td>\n",
       "    </tr>\n",
       "  </tbody>\n",
       "</table>\n",
       "</div>"
      ],
      "text/plain": [
       "    EventID  Label         Mass  Corrected_mass           Pt       Pt_sum  \\\n",
       "34      9.0    1.0   577.526019     3913.270019  2196.500019  2243.820019   \n",
       "35      9.0    1.0  3424.609985     3952.339985  3031.829985  4262.569985   \n",
       "36      9.0    1.0   954.296005     4844.570005  2776.750005  2834.040005   \n",
       "37      9.0    1.0  1476.550006     3931.870006  2784.390006  3053.450006   \n",
       "38      9.0    1.0  1337.250006     3320.140006  2260.600006  2516.150006   \n",
       "\n",
       "        Pt_min     IP_chi2  IP_chi2_sum  Flight_distance  Pseudorapidity  \\\n",
       "34  506.633019  258.071019   377.000019       373.707019        3.247519   \n",
       "35  506.363985    2.081485  1564.689985      3149.729985        3.266385   \n",
       "36  506.084005  184.007005   394.550005       390.359005        3.270565   \n",
       "37  506.556006  169.357006   539.192006       880.848006        3.274646   \n",
       "38  507.062006  291.849006  1210.380006      1333.300006        3.216956   \n",
       "\n",
       "    Track_number_PV  Tracks_number  Tracks_number_passed  Vertex_chi2  \\\n",
       "34              0.0            2.0                   1.0     1.931259   \n",
       "35              0.0            3.0                   2.0     0.931321   \n",
       "36              0.0            3.0                   1.0     0.743300   \n",
       "37              0.0            3.0                   1.0     1.267956   \n",
       "38              0.0            2.0                   1.0     1.504636   \n",
       "\n",
       "      Weight     Proba  \n",
       "34  4.483708  0.980200  \n",
       "35  4.483708  0.991321  \n",
       "36  4.483708  0.982793  \n",
       "37  4.483708  0.983961  \n",
       "38  4.483708  0.980424  "
      ]
     },
     "execution_count": 304,
     "metadata": {},
     "output_type": "execute_result"
    }
   ],
   "source": [
    "new_train_data[new_train_data[\"Label\"] == 1].head()"
   ]
  },
  {
   "cell_type": "code",
   "execution_count": 305,
   "metadata": {
    "collapsed": false
   },
   "outputs": [],
   "source": [
    "ndf = new_train_data.groupby(\"EventID\", as_index=False)[\"Proba\"].max()"
   ]
  },
  {
   "cell_type": "code",
   "execution_count": 306,
   "metadata": {
    "collapsed": false
   },
   "outputs": [
    {
     "data": {
      "text/html": [
       "<div>\n",
       "<table border=\"1\" class=\"dataframe\">\n",
       "  <thead>\n",
       "    <tr style=\"text-align: right;\">\n",
       "      <th></th>\n",
       "      <th>EventID</th>\n",
       "      <th>Proba</th>\n",
       "    </tr>\n",
       "  </thead>\n",
       "  <tbody>\n",
       "    <tr>\n",
       "      <th>0</th>\n",
       "      <td>9.0</td>\n",
       "      <td>0.991321</td>\n",
       "    </tr>\n",
       "    <tr>\n",
       "      <th>1</th>\n",
       "      <td>15.0</td>\n",
       "      <td>0.979329</td>\n",
       "    </tr>\n",
       "    <tr>\n",
       "      <th>2</th>\n",
       "      <td>16.0</td>\n",
       "      <td>0.990348</td>\n",
       "    </tr>\n",
       "    <tr>\n",
       "      <th>3</th>\n",
       "      <td>20.0</td>\n",
       "      <td>0.994232</td>\n",
       "    </tr>\n",
       "    <tr>\n",
       "      <th>4</th>\n",
       "      <td>22.0</td>\n",
       "      <td>0.994762</td>\n",
       "    </tr>\n",
       "  </tbody>\n",
       "</table>\n",
       "</div>"
      ],
      "text/plain": [
       "   EventID     Proba\n",
       "0      9.0  0.991321\n",
       "1     15.0  0.979329\n",
       "2     16.0  0.990348\n",
       "3     20.0  0.994232\n",
       "4     22.0  0.994762"
      ]
     },
     "execution_count": 306,
     "metadata": {},
     "output_type": "execute_result"
    }
   ],
   "source": [
    "ndf.head()"
   ]
  },
  {
   "cell_type": "code",
   "execution_count": 307,
   "metadata": {
    "collapsed": false
   },
   "outputs": [],
   "source": [
    "prefinal_data = pd.merge(new_train_data[new_train_data[\"Label\"] == 1], ndf, how=\"right\", on=[\"EventID\",\"Proba\"])"
   ]
  },
  {
   "cell_type": "code",
   "execution_count": 308,
   "metadata": {
    "collapsed": false
   },
   "outputs": [
    {
     "data": {
      "text/html": [
       "<div>\n",
       "<table border=\"1\" class=\"dataframe\">\n",
       "  <thead>\n",
       "    <tr style=\"text-align: right;\">\n",
       "      <th></th>\n",
       "      <th>EventID</th>\n",
       "      <th>Label</th>\n",
       "      <th>Mass</th>\n",
       "      <th>Corrected_mass</th>\n",
       "      <th>Pt</th>\n",
       "      <th>Pt_sum</th>\n",
       "      <th>Pt_min</th>\n",
       "      <th>IP_chi2</th>\n",
       "      <th>IP_chi2_sum</th>\n",
       "      <th>Flight_distance</th>\n",
       "      <th>Pseudorapidity</th>\n",
       "      <th>Track_number_PV</th>\n",
       "      <th>Tracks_number</th>\n",
       "      <th>Tracks_number_passed</th>\n",
       "      <th>Vertex_chi2</th>\n",
       "      <th>Weight</th>\n",
       "      <th>Proba</th>\n",
       "    </tr>\n",
       "  </thead>\n",
       "  <tbody>\n",
       "    <tr>\n",
       "      <th>0</th>\n",
       "      <td>9.0</td>\n",
       "      <td>1.0</td>\n",
       "      <td>3424.609985</td>\n",
       "      <td>3952.339985</td>\n",
       "      <td>3031.829985</td>\n",
       "      <td>4262.569985</td>\n",
       "      <td>506.363985</td>\n",
       "      <td>2.081485</td>\n",
       "      <td>1564.689985</td>\n",
       "      <td>3149.729985</td>\n",
       "      <td>3.266385</td>\n",
       "      <td>0.0</td>\n",
       "      <td>3.0</td>\n",
       "      <td>2.0</td>\n",
       "      <td>0.931321</td>\n",
       "      <td>4.483708</td>\n",
       "      <td>0.991321</td>\n",
       "    </tr>\n",
       "    <tr>\n",
       "      <th>1</th>\n",
       "      <td>15.0</td>\n",
       "      <td>1.0</td>\n",
       "      <td>1342.130009</td>\n",
       "      <td>2559.850009</td>\n",
       "      <td>2406.110009</td>\n",
       "      <td>2698.920009</td>\n",
       "      <td>263.830009</td>\n",
       "      <td>156.056009</td>\n",
       "      <td>1061.830009</td>\n",
       "      <td>1188.860009</td>\n",
       "      <td>4.365779</td>\n",
       "      <td>0.0</td>\n",
       "      <td>2.0</td>\n",
       "      <td>1.0</td>\n",
       "      <td>0.052152</td>\n",
       "      <td>9.133841</td>\n",
       "      <td>0.979329</td>\n",
       "    </tr>\n",
       "    <tr>\n",
       "      <th>2</th>\n",
       "      <td>16.0</td>\n",
       "      <td>1.0</td>\n",
       "      <td>4069.239995</td>\n",
       "      <td>4718.959995</td>\n",
       "      <td>2908.099995</td>\n",
       "      <td>4377.389995</td>\n",
       "      <td>819.014995</td>\n",
       "      <td>25.658195</td>\n",
       "      <td>2848.519995</td>\n",
       "      <td>2923.739995</td>\n",
       "      <td>3.214705</td>\n",
       "      <td>0.0</td>\n",
       "      <td>2.0</td>\n",
       "      <td>1.0</td>\n",
       "      <td>2.589495</td>\n",
       "      <td>6.605404</td>\n",
       "      <td>0.990348</td>\n",
       "    </tr>\n",
       "    <tr>\n",
       "      <th>3</th>\n",
       "      <td>20.0</td>\n",
       "      <td>1.0</td>\n",
       "      <td>4164.980004</td>\n",
       "      <td>5542.270004</td>\n",
       "      <td>5688.620004</td>\n",
       "      <td>5719.350004</td>\n",
       "      <td>906.176004</td>\n",
       "      <td>61.209204</td>\n",
       "      <td>1175.830004</td>\n",
       "      <td>1745.980004</td>\n",
       "      <td>2.846404</td>\n",
       "      <td>0.0</td>\n",
       "      <td>2.0</td>\n",
       "      <td>1.0</td>\n",
       "      <td>0.282778</td>\n",
       "      <td>7.072933</td>\n",
       "      <td>0.994232</td>\n",
       "    </tr>\n",
       "    <tr>\n",
       "      <th>4</th>\n",
       "      <td>22.0</td>\n",
       "      <td>1.0</td>\n",
       "      <td>1941.450002</td>\n",
       "      <td>5412.300002</td>\n",
       "      <td>8491.590002</td>\n",
       "      <td>8618.430002</td>\n",
       "      <td>960.211002</td>\n",
       "      <td>252.954002</td>\n",
       "      <td>1033.500002</td>\n",
       "      <td>1519.900002</td>\n",
       "      <td>3.271582</td>\n",
       "      <td>0.0</td>\n",
       "      <td>3.0</td>\n",
       "      <td>2.0</td>\n",
       "      <td>2.064212</td>\n",
       "      <td>4.483708</td>\n",
       "      <td>0.994762</td>\n",
       "    </tr>\n",
       "  </tbody>\n",
       "</table>\n",
       "</div>"
      ],
      "text/plain": [
       "   EventID  Label         Mass  Corrected_mass           Pt       Pt_sum  \\\n",
       "0      9.0    1.0  3424.609985     3952.339985  3031.829985  4262.569985   \n",
       "1     15.0    1.0  1342.130009     2559.850009  2406.110009  2698.920009   \n",
       "2     16.0    1.0  4069.239995     4718.959995  2908.099995  4377.389995   \n",
       "3     20.0    1.0  4164.980004     5542.270004  5688.620004  5719.350004   \n",
       "4     22.0    1.0  1941.450002     5412.300002  8491.590002  8618.430002   \n",
       "\n",
       "       Pt_min     IP_chi2  IP_chi2_sum  Flight_distance  Pseudorapidity  \\\n",
       "0  506.363985    2.081485  1564.689985      3149.729985        3.266385   \n",
       "1  263.830009  156.056009  1061.830009      1188.860009        4.365779   \n",
       "2  819.014995   25.658195  2848.519995      2923.739995        3.214705   \n",
       "3  906.176004   61.209204  1175.830004      1745.980004        2.846404   \n",
       "4  960.211002  252.954002  1033.500002      1519.900002        3.271582   \n",
       "\n",
       "   Track_number_PV  Tracks_number  Tracks_number_passed  Vertex_chi2  \\\n",
       "0              0.0            3.0                   2.0     0.931321   \n",
       "1              0.0            2.0                   1.0     0.052152   \n",
       "2              0.0            2.0                   1.0     2.589495   \n",
       "3              0.0            2.0                   1.0     0.282778   \n",
       "4              0.0            3.0                   2.0     2.064212   \n",
       "\n",
       "     Weight     Proba  \n",
       "0  4.483708  0.991321  \n",
       "1  9.133841  0.979329  \n",
       "2  6.605404  0.990348  \n",
       "3  7.072933  0.994232  \n",
       "4  4.483708  0.994762  "
      ]
     },
     "execution_count": 308,
     "metadata": {},
     "output_type": "execute_result"
    }
   ],
   "source": [
    "prefinal_data.head()"
   ]
  },
  {
   "cell_type": "code",
   "execution_count": 309,
   "metadata": {
    "collapsed": true
   },
   "outputs": [],
   "source": [
    "final_data = pd.merge(training_data[training_data[\"Label\"] == 0], prefinal_data, how=\"outer\")"
   ]
  },
  {
   "cell_type": "code",
   "execution_count": 310,
   "metadata": {
    "collapsed": false
   },
   "outputs": [
    {
     "data": {
      "text/html": [
       "<div>\n",
       "<table border=\"1\" class=\"dataframe\">\n",
       "  <thead>\n",
       "    <tr style=\"text-align: right;\">\n",
       "      <th></th>\n",
       "      <th>EventID</th>\n",
       "      <th>Label</th>\n",
       "      <th>Mass</th>\n",
       "      <th>Corrected_mass</th>\n",
       "      <th>Pt</th>\n",
       "      <th>Pt_sum</th>\n",
       "      <th>Pt_min</th>\n",
       "      <th>IP_chi2</th>\n",
       "      <th>IP_chi2_sum</th>\n",
       "      <th>Flight_distance</th>\n",
       "      <th>Pseudorapidity</th>\n",
       "      <th>Track_number_PV</th>\n",
       "      <th>Tracks_number</th>\n",
       "      <th>Tracks_number_passed</th>\n",
       "      <th>Vertex_chi2</th>\n",
       "      <th>Weight</th>\n",
       "      <th>Proba</th>\n",
       "    </tr>\n",
       "  </thead>\n",
       "  <tbody>\n",
       "    <tr>\n",
       "      <th>0</th>\n",
       "      <td>1</td>\n",
       "      <td>0</td>\n",
       "      <td>3394.169986</td>\n",
       "      <td>5829.519986</td>\n",
       "      <td>7865.049986</td>\n",
       "      <td>8371.849986</td>\n",
       "      <td>224.901986</td>\n",
       "      <td>547.668986</td>\n",
       "      <td>215.570986</td>\n",
       "      <td>777.639986</td>\n",
       "      <td>2.455226</td>\n",
       "      <td>1</td>\n",
       "      <td>2</td>\n",
       "      <td>1</td>\n",
       "      <td>9.206566</td>\n",
       "      <td>1.0</td>\n",
       "      <td>NaN</td>\n",
       "    </tr>\n",
       "    <tr>\n",
       "      <th>1</th>\n",
       "      <td>2</td>\n",
       "      <td>0</td>\n",
       "      <td>1637.959993</td>\n",
       "      <td>5097.399993</td>\n",
       "      <td>2364.759993</td>\n",
       "      <td>2386.719993</td>\n",
       "      <td>1180.419993</td>\n",
       "      <td>1056.739993</td>\n",
       "      <td>1229.019993</td>\n",
       "      <td>2565.449993</td>\n",
       "      <td>3.509963</td>\n",
       "      <td>0</td>\n",
       "      <td>2</td>\n",
       "      <td>2</td>\n",
       "      <td>0.940703</td>\n",
       "      <td>1.0</td>\n",
       "      <td>NaN</td>\n",
       "    </tr>\n",
       "    <tr>\n",
       "      <th>2</th>\n",
       "      <td>8</td>\n",
       "      <td>0</td>\n",
       "      <td>2620.739998</td>\n",
       "      <td>13396.399998</td>\n",
       "      <td>2001.449998</td>\n",
       "      <td>2987.269998</td>\n",
       "      <td>1436.459998</td>\n",
       "      <td>15.222898</td>\n",
       "      <td>22.275298</td>\n",
       "      <td>16.906998</td>\n",
       "      <td>3.000858</td>\n",
       "      <td>1</td>\n",
       "      <td>2</td>\n",
       "      <td>1</td>\n",
       "      <td>6.007458</td>\n",
       "      <td>1.0</td>\n",
       "      <td>NaN</td>\n",
       "    </tr>\n",
       "    <tr>\n",
       "      <th>3</th>\n",
       "      <td>61</td>\n",
       "      <td>0</td>\n",
       "      <td>698.742026</td>\n",
       "      <td>26551.000026</td>\n",
       "      <td>2301.750026</td>\n",
       "      <td>2378.280026</td>\n",
       "      <td>761.238026</td>\n",
       "      <td>33.367126</td>\n",
       "      <td>40.617626</td>\n",
       "      <td>34.469126</td>\n",
       "      <td>3.238886</td>\n",
       "      <td>1</td>\n",
       "      <td>2</td>\n",
       "      <td>1</td>\n",
       "      <td>3.176876</td>\n",
       "      <td>1.0</td>\n",
       "      <td>NaN</td>\n",
       "    </tr>\n",
       "    <tr>\n",
       "      <th>4</th>\n",
       "      <td>61</td>\n",
       "      <td>0</td>\n",
       "      <td>426.601999</td>\n",
       "      <td>3095.629999</td>\n",
       "      <td>2539.759999</td>\n",
       "      <td>2538.669999</td>\n",
       "      <td>341.297999</td>\n",
       "      <td>176.631999</td>\n",
       "      <td>175.275999</td>\n",
       "      <td>178.884999</td>\n",
       "      <td>4.835269</td>\n",
       "      <td>1</td>\n",
       "      <td>2</td>\n",
       "      <td>1</td>\n",
       "      <td>0.741863</td>\n",
       "      <td>1.0</td>\n",
       "      <td>NaN</td>\n",
       "    </tr>\n",
       "  </tbody>\n",
       "</table>\n",
       "</div>"
      ],
      "text/plain": [
       "   EventID  Label         Mass  Corrected_mass           Pt       Pt_sum  \\\n",
       "0        1      0  3394.169986     5829.519986  7865.049986  8371.849986   \n",
       "1        2      0  1637.959993     5097.399993  2364.759993  2386.719993   \n",
       "2        8      0  2620.739998    13396.399998  2001.449998  2987.269998   \n",
       "3       61      0   698.742026    26551.000026  2301.750026  2378.280026   \n",
       "4       61      0   426.601999     3095.629999  2539.759999  2538.669999   \n",
       "\n",
       "        Pt_min      IP_chi2  IP_chi2_sum  Flight_distance  Pseudorapidity  \\\n",
       "0   224.901986   547.668986   215.570986       777.639986        2.455226   \n",
       "1  1180.419993  1056.739993  1229.019993      2565.449993        3.509963   \n",
       "2  1436.459998    15.222898    22.275298        16.906998        3.000858   \n",
       "3   761.238026    33.367126    40.617626        34.469126        3.238886   \n",
       "4   341.297999   176.631999   175.275999       178.884999        4.835269   \n",
       "\n",
       "   Track_number_PV  Tracks_number  Tracks_number_passed  Vertex_chi2  Weight  \\\n",
       "0                1              2                     1     9.206566     1.0   \n",
       "1                0              2                     2     0.940703     1.0   \n",
       "2                1              2                     1     6.007458     1.0   \n",
       "3                1              2                     1     3.176876     1.0   \n",
       "4                1              2                     1     0.741863     1.0   \n",
       "\n",
       "   Proba  \n",
       "0    NaN  \n",
       "1    NaN  \n",
       "2    NaN  \n",
       "3    NaN  \n",
       "4    NaN  "
      ]
     },
     "execution_count": 310,
     "metadata": {},
     "output_type": "execute_result"
    }
   ],
   "source": [
    "final_data.head()"
   ]
  },
  {
   "cell_type": "code",
   "execution_count": 321,
   "metadata": {
    "collapsed": false
   },
   "outputs": [
    {
     "name": "stdout",
     "output_type": "stream",
     "text": [
      "0.966538996197\n"
     ]
    },
    {
     "name": "stderr",
     "output_type": "stream",
     "text": [
      "C:\\Users\\igosh\\Anaconda3\\lib\\site-packages\\ipykernel\\__main__.py:3: RuntimeWarning: invalid value encountered in true_divide\n",
      "  app.launch_new_instance()\n"
     ]
    }
   ],
   "source": [
    "xgbclassifier = xgb.XGBClassifier(learning_rate=0.1, n_estimators=150, min_child_weight=3,\n",
    "max_depth = 6, gamma=0.1, subsample=0.8, colsample_bytree=0.8,\n",
    "objective='binary:logistic', nthread=4, scale_pos_weight=1, seed=27,\n",
    "reg_alpha = 1e-05)\n",
    "xgbclassifier.fit(final_data[features], final_data.Label)\n",
    "\n",
    "# predict each SV\n",
    "proba = xgbclassifier.predict_proba(validation_data[features])\n",
    "events_ids, _ = np.unique(validation_data.EventID, return_index=True)\n",
    "\n",
    "# compute number of SVs in each event\n",
    "number_of_sv_in_event = np.bincount(validation_data.EventID)\n",
    "\n",
    "# compute predictions for events (take the mean value of predictions for SVs forming an event)\n",
    "events_proba7 = compute_max(numpy.array(validation_data.EventID), proba[:, 1])[events_ids]\n",
    "\n",
    "# compute weights for events \n",
    "events_weights7 = compute_mean(validation_data.EventID, validation_data.Weight)[events_ids]\n",
    "\n",
    "# compute labels for events \n",
    "events_labels7 = compute_mean(validation_data.EventID, validation_data.Label)[events_ids]\n",
    "\n",
    "print(roc_auc_score(events_labels7, events_proba7, sample_weight=events_weights7))"
   ]
  },
  {
   "cell_type": "code",
   "execution_count": 322,
   "metadata": {
    "collapsed": false
   },
   "outputs": [
    {
     "name": "stderr",
     "output_type": "stream",
     "text": [
      "C:\\Users\\igosh\\Anaconda3\\lib\\site-packages\\ipykernel\\__main__.py:3: RuntimeWarning: invalid value encountered in true_divide\n",
      "  app.launch_new_instance()\n"
     ]
    }
   ],
   "source": [
    "xgbclassifier = xgb.XGBClassifier(learning_rate=0.1, n_estimators=150, min_child_weight=3,\n",
    "max_depth = 6, gamma=0.1, subsample=0.8, colsample_bytree=0.8,\n",
    "objective='binary:logistic', nthread=4, scale_pos_weight=1, seed=27,\n",
    "reg_alpha = 1e-05)\n",
    "xgbclassifier.fit(training_data[features], training_data.Label)\n",
    "\n",
    "# predict each SV\n",
    "proba = xgbclassifier.predict_proba(validation_data[features])\n",
    "events_ids, _ = np.unique(validation_data.EventID, return_index=True)\n",
    "\n",
    "# compute number of SVs in each event\n",
    "number_of_sv_in_event = np.bincount(validation_data.EventID)\n",
    "\n",
    "# compute predictions for events (take the mean value of predictions for SVs forming an event)\n",
    "events_proba6 = compute_max(numpy.array(validation_data.EventID), proba[:, 1])[events_ids]\n",
    "\n",
    "# compute weights for events \n",
    "events_weights6 = compute_mean(validation_data.EventID, validation_data.Weight)[events_ids]\n",
    "\n",
    "# compute labels for events \n",
    "events_labels6 = compute_mean(validation_data.EventID, validation_data.Label)[events_ids]"
   ]
  },
  {
   "cell_type": "code",
   "execution_count": 323,
   "metadata": {
    "collapsed": false
   },
   "outputs": [
    {
     "data": {
      "image/png": "[encoded data removed]",
      "text/plain": [
       "<matplotlib.figure.Figure at 0x23785c9f940>"
      ]
     },
     "metadata": {},
     "output_type": "display_data"
    }
   ],
   "source": [
    "fpr7, tpr7, _ = roc_curve(events_labels7, events_proba7, sample_weight=events_weights7)\n",
    "\n",
    "fpr6, tpr6, _ = roc_curve(events_labels6, events_proba6, sample_weight=events_weights6)\n",
    "\n",
    "\n",
    "\n",
    "plt.figure(figsize=[15, 10])\n",
    "lw = 1\n",
    "plt.plot(fpr7, tpr7, color='b',\n",
    "         lw=lw, label='best xgboost w/o noize (roc auc = %0.5f)' % roc_auc_score(events_labels7, events_proba7, sample_weight=events_weights7))\n",
    "plt.plot(fpr6, tpr6, color='r',\n",
    "         lw=lw, label='best xgboost (roc auc = %0.5f)' % roc_auc_score(events_labels6, events_proba6, sample_weight=events_weights6))\n",
    "plt.plot([0, 1], [0, 1], color='navy', lw=lw, linestyle='--')\n",
    "plt.xlim([0.0, 0.2])\n",
    "plt.ylim([0.4, 1.05])\n",
    "plt.xlabel('False Positive Rate')\n",
    "plt.ylabel('True Positive Rate')\n",
    "plt.legend(loc=\"lower right\")\n",
    "plt.grid()\n",
    "plt.show()"
   ]
  }
 ],
 "metadata": {
  "anaconda-cloud": {},
  "kernelspec": {
   "display_name": "Python [default]",
   "language": "python",
   "name": "python3"
  },
  "language_info": {
   "codemirror_mode": {
    "name": "ipython",
    "version": 3
   },
   "file_extension": ".py",
   "mimetype": "text/x-python",
   "name": "python",
   "nbconvert_exporter": "python",
   "pygments_lexer": "ipython3",
   "version": "3.5.2"
  }
 },
 "nbformat": 4,
 "nbformat_minor": 1
}
